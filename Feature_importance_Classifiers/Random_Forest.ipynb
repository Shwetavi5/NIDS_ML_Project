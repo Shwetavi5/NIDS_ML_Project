{
 "cells": [
  {
   "cell_type": "code",
   "execution_count": 1,
   "metadata": {},
   "outputs": [],
   "source": [
    "import numpy as np\n",
    "import pandas as pd\n",
    "\n",
    "\n",
    "import numpy as np  # for array\n",
    "import pandas as pd  # for csv files and dataframe\n",
    "import matplotlib.pyplot as plt  # for plotting\n",
    "import seaborn as sns  # plotting\n",
    "from scipy import stats\n",
    "\n",
    "import pickle  # To load data int disk\n",
    "#from prettytable import PrettyTable  # To print in tabular format\n",
    "\n",
    "import warnings\n",
    "warnings.filterwarnings(\"ignore\")\n",
    "\n",
    "from sklearn.preprocessing import StandardScaler\n",
    "from sklearn.preprocessing import LabelEncoder, OneHotEncoder\n",
    "\n",
    "from sklearn.model_selection import train_test_split\n",
    "from sklearn.linear_model import LogisticRegression, SGDClassifier\n",
    "from sklearn.svm import LinearSVC\n",
    "from sklearn.naive_bayes import MultinomialNB\n",
    "from sklearn.tree import DecisionTreeClassifier\n",
    "from sklearn.ensemble import RandomForestClassifier\n",
    "#import xgboost as xgb\n",
    "\n",
    "from sklearn.metrics import accuracy_score, confusion_matrix, make_scorer\n",
    "from sklearn.metrics import auc, f1_score, roc_curve\n",
    "from sklearn.model_selection import GridSearchCV, RandomizedSearchCV\n",
    "from sklearn.model_selection import cross_validate, cross_val_predict\n",
    "\n",
    "%matplotlib inline\n",
    "\n",
    "# \n",
    "import pandas as pd\n",
    "import numpy as np\n",
    "import seaborn as sns\n",
    "import matplotlib.pyplot as plt\n",
    "from wordcloud import WordCloud, STOPWORDS\n",
    "from sklearn.ensemble import RandomForestClassifier\n",
    "from sklearn.feature_selection import VarianceThreshold\n",
    "from sklearn.ensemble import ExtraTreesClassifier\n",
    "from sklearn.utils import shuffle\n",
    "from collections import Counter\n",
    "from sklearn.datasets import make_classification\n",
    "from imblearn.under_sampling import RandomUnderSampler\n",
    "from imblearn.over_sampling import SMOTE\n",
    "\n",
    "from sklearn.datasets import make_classification\n",
    "from sklearn.feature_selection import SelectFromModel\n",
    "import warnings\n",
    "with warnings.catch_warnings():\n",
    "    warnings.filterwarnings(\"ignore\", category=DeprecationWarning)"
   ]
  },
  {
   "cell_type": "markdown",
   "metadata": {},
   "source": [
    "### Data reading\n",
    "Four csv files were merged to form a single dataframe. Attribute names were extracted from features.csv file and appended to the dataframe."
   ]
  },
  {
   "cell_type": "code",
   "execution_count": 2,
   "metadata": {},
   "outputs": [],
   "source": [
    "# Reading datasets\n",
    "\n",
    "dataframe1 = pd.read_csv(\"UNSW-NB15_1.csv\",low_memory=False, header=None)\n",
    "dataframe2 = pd.read_csv(\"UNSW-NB15_2.csv\", low_memory=False, header=None)\n",
    "dataframe3 = pd.read_csv(\"UNSW-NB15_3.csv\", low_memory=False, header=None)\n",
    "dataframe4 = pd.read_csv(\"UNSW-NB15_4.csv\",low_memory=False, header=None)"
   ]
  },
  {
   "cell_type": "code",
   "execution_count": 3,
   "metadata": {},
   "outputs": [
    {
     "data": {
      "text/plain": [
       "(2540047, 49)"
      ]
     },
     "execution_count": 3,
     "metadata": {},
     "output_type": "execute_result"
    }
   ],
   "source": [
    "data = pd.concat([dataframe1, dataframe2, dataframe3, dataframe4])\n",
    "data.shape"
   ]
  },
  {
   "cell_type": "code",
   "execution_count": 4,
   "metadata": {},
   "outputs": [
    {
     "data": {
      "text/html": [
       "<div>\n",
       "<style scoped>\n",
       "    .dataframe tbody tr th:only-of-type {\n",
       "        vertical-align: middle;\n",
       "    }\n",
       "\n",
       "    .dataframe tbody tr th {\n",
       "        vertical-align: top;\n",
       "    }\n",
       "\n",
       "    .dataframe thead th {\n",
       "        text-align: right;\n",
       "    }\n",
       "</style>\n",
       "<table border=\"1\" class=\"dataframe\">\n",
       "  <thead>\n",
       "    <tr style=\"text-align: right;\">\n",
       "      <th></th>\n",
       "      <th>0</th>\n",
       "      <th>1</th>\n",
       "      <th>2</th>\n",
       "      <th>3</th>\n",
       "      <th>4</th>\n",
       "      <th>5</th>\n",
       "      <th>6</th>\n",
       "      <th>7</th>\n",
       "      <th>8</th>\n",
       "      <th>9</th>\n",
       "      <th>...</th>\n",
       "      <th>39</th>\n",
       "      <th>40</th>\n",
       "      <th>41</th>\n",
       "      <th>42</th>\n",
       "      <th>43</th>\n",
       "      <th>44</th>\n",
       "      <th>45</th>\n",
       "      <th>46</th>\n",
       "      <th>47</th>\n",
       "      <th>48</th>\n",
       "    </tr>\n",
       "  </thead>\n",
       "  <tbody>\n",
       "    <tr>\n",
       "      <th>322641</th>\n",
       "      <td>59.166.0.6</td>\n",
       "      <td>10498</td>\n",
       "      <td>149.171.126.8</td>\n",
       "      <td>44704</td>\n",
       "      <td>udp</td>\n",
       "      <td>CON</td>\n",
       "      <td>0.001770</td>\n",
       "      <td>520</td>\n",
       "      <td>304</td>\n",
       "      <td>31</td>\n",
       "      <td>...</td>\n",
       "      <td></td>\n",
       "      <td>4</td>\n",
       "      <td>5</td>\n",
       "      <td>2</td>\n",
       "      <td>9</td>\n",
       "      <td>1</td>\n",
       "      <td>1</td>\n",
       "      <td>3</td>\n",
       "      <td>NaN</td>\n",
       "      <td>0</td>\n",
       "    </tr>\n",
       "    <tr>\n",
       "      <th>299317</th>\n",
       "      <td>59.166.0.7</td>\n",
       "      <td>40444</td>\n",
       "      <td>149.171.126.2</td>\n",
       "      <td>6881</td>\n",
       "      <td>tcp</td>\n",
       "      <td>FIN</td>\n",
       "      <td>6.679858</td>\n",
       "      <td>32814</td>\n",
       "      <td>1445572</td>\n",
       "      <td>31</td>\n",
       "      <td>...</td>\n",
       "      <td>0</td>\n",
       "      <td>14</td>\n",
       "      <td>10</td>\n",
       "      <td>3</td>\n",
       "      <td>6</td>\n",
       "      <td>2</td>\n",
       "      <td>1</td>\n",
       "      <td>2</td>\n",
       "      <td>NaN</td>\n",
       "      <td>0</td>\n",
       "    </tr>\n",
       "    <tr>\n",
       "      <th>183555</th>\n",
       "      <td>59.166.0.0</td>\n",
       "      <td>60695</td>\n",
       "      <td>149.171.126.1</td>\n",
       "      <td>22</td>\n",
       "      <td>tcp</td>\n",
       "      <td>FIN</td>\n",
       "      <td>0.012547</td>\n",
       "      <td>5928</td>\n",
       "      <td>8010</td>\n",
       "      <td>31</td>\n",
       "      <td>...</td>\n",
       "      <td></td>\n",
       "      <td>1</td>\n",
       "      <td>1</td>\n",
       "      <td>1</td>\n",
       "      <td>10</td>\n",
       "      <td>1</td>\n",
       "      <td>1</td>\n",
       "      <td>1</td>\n",
       "      <td>NaN</td>\n",
       "      <td>0</td>\n",
       "    </tr>\n",
       "    <tr>\n",
       "      <th>355417</th>\n",
       "      <td>59.166.0.6</td>\n",
       "      <td>33288</td>\n",
       "      <td>149.171.126.2</td>\n",
       "      <td>143</td>\n",
       "      <td>tcp</td>\n",
       "      <td>FIN</td>\n",
       "      <td>0.779781</td>\n",
       "      <td>7804</td>\n",
       "      <td>15028</td>\n",
       "      <td>31</td>\n",
       "      <td>...</td>\n",
       "      <td>0</td>\n",
       "      <td>6</td>\n",
       "      <td>6</td>\n",
       "      <td>2</td>\n",
       "      <td>1</td>\n",
       "      <td>1</td>\n",
       "      <td>1</td>\n",
       "      <td>1</td>\n",
       "      <td>NaN</td>\n",
       "      <td>0</td>\n",
       "    </tr>\n",
       "    <tr>\n",
       "      <th>413288</th>\n",
       "      <td>59.166.0.8</td>\n",
       "      <td>42742</td>\n",
       "      <td>149.171.126.1</td>\n",
       "      <td>21</td>\n",
       "      <td>tcp</td>\n",
       "      <td>FIN</td>\n",
       "      <td>1.049232</td>\n",
       "      <td>2934</td>\n",
       "      <td>3742</td>\n",
       "      <td>31</td>\n",
       "      <td>...</td>\n",
       "      <td>1</td>\n",
       "      <td>1</td>\n",
       "      <td>1</td>\n",
       "      <td>4</td>\n",
       "      <td>3</td>\n",
       "      <td>1</td>\n",
       "      <td>1</td>\n",
       "      <td>5</td>\n",
       "      <td>NaN</td>\n",
       "      <td>0</td>\n",
       "    </tr>\n",
       "  </tbody>\n",
       "</table>\n",
       "<p>5 rows × 49 columns</p>\n",
       "</div>"
      ],
      "text/plain": [
       "                0      1              2      3    4    5         6      7   \\\n",
       "322641  59.166.0.6  10498  149.171.126.8  44704  udp  CON  0.001770    520   \n",
       "299317  59.166.0.7  40444  149.171.126.2   6881  tcp  FIN  6.679858  32814   \n",
       "183555  59.166.0.0  60695  149.171.126.1     22  tcp  FIN  0.012547   5928   \n",
       "355417  59.166.0.6  33288  149.171.126.2    143  tcp  FIN  0.779781   7804   \n",
       "413288  59.166.0.8  42742  149.171.126.1     21  tcp  FIN  1.049232   2934   \n",
       "\n",
       "             8   9   ...  39  40  41 42  43  44  45  46   47  48  \n",
       "322641      304  31  ...       4   5  2   9   1   1   3  NaN   0  \n",
       "299317  1445572  31  ...   0  14  10  3   6   2   1   2  NaN   0  \n",
       "183555     8010  31  ...       1   1  1  10   1   1   1  NaN   0  \n",
       "355417    15028  31  ...   0   6   6  2   1   1   1   1  NaN   0  \n",
       "413288     3742  31  ...   1   1   1  4   3   1   1   5  NaN   0  \n",
       "\n",
       "[5 rows x 49 columns]"
      ]
     },
     "execution_count": 4,
     "metadata": {},
     "output_type": "execute_result"
    }
   ],
   "source": [
    "df = data.sample(frac =.10)\n",
    "  \n",
    "# checking if sample is 0.25 times data or not\n",
    "  \n",
    "if (0.10*(len(data))== len(df)):\n",
    "    print( \"Cool\")\n",
    "    print(len(data), len(df))\n",
    "  \n",
    "# display\n",
    "df.head()"
   ]
  },
  {
   "cell_type": "code",
   "execution_count": 5,
   "metadata": {},
   "outputs": [
    {
     "data": {
      "text/plain": [
       "(254005, 49)"
      ]
     },
     "execution_count": 5,
     "metadata": {},
     "output_type": "execute_result"
    }
   ],
   "source": [
    "df.shape"
   ]
  },
  {
   "cell_type": "code",
   "execution_count": 6,
   "metadata": {},
   "outputs": [
    {
     "data": {
      "text/plain": [
       "0                srcip\n",
       "1                sport\n",
       "2                dstip\n",
       "3               dsport\n",
       "4                proto\n",
       "5                state\n",
       "6                  dur\n",
       "7               sbytes\n",
       "8               dbytes\n",
       "9                 sttl\n",
       "10                dttl\n",
       "11               sloss\n",
       "12               dloss\n",
       "13             service\n",
       "14               Sload\n",
       "15               Dload\n",
       "16               Spkts\n",
       "17               Dpkts\n",
       "18                swin\n",
       "19                dwin\n",
       "20               stcpb\n",
       "21               dtcpb\n",
       "22             smeansz\n",
       "23             dmeansz\n",
       "24         trans_depth\n",
       "25         res_bdy_len\n",
       "26                Sjit\n",
       "27                Djit\n",
       "28               Stime\n",
       "29               Ltime\n",
       "30             Sintpkt\n",
       "31             Dintpkt\n",
       "32              tcprtt\n",
       "33              synack\n",
       "34              ackdat\n",
       "35     is_sm_ips_ports\n",
       "36        ct_state_ttl\n",
       "37    ct_flw_http_mthd\n",
       "38        is_ftp_login\n",
       "39          ct_ftp_cmd\n",
       "40          ct_srv_src\n",
       "41          ct_srv_dst\n",
       "42          ct_dst_ltm\n",
       "43         ct_src_ ltm\n",
       "44    ct_src_dport_ltm\n",
       "45    ct_dst_sport_ltm\n",
       "46      ct_dst_src_ltm\n",
       "47          attack_cat\n",
       "48               Label\n",
       "Name: Name, dtype: object"
      ]
     },
     "execution_count": 6,
     "metadata": {},
     "output_type": "execute_result"
    }
   ],
   "source": [
    "# Reading features.csv file and converting it to dataframe\n",
    "df_feature = pd.read_csv('NUSW-NB15_features.csv' , encoding = \"ISO-8859-1\")\n",
    "df_feature['Name']"
   ]
  },
  {
   "cell_type": "code",
   "execution_count": 7,
   "metadata": {},
   "outputs": [],
   "source": [
    "# Making column names lower case, removing spaces\n",
    "df_feature['Name'] = df_feature['Name'].apply(lambda x: x.strip().replace(' ', '').lower())"
   ]
  },
  {
   "cell_type": "code",
   "execution_count": 8,
   "metadata": {},
   "outputs": [],
   "source": [
    "# Renaming our dataframe with proper column names (srcip,sport,dstip,dsport,proto,state,dur,sbytes,dbytes,sttl,dttl,sloss,dloss,service,sload,dload,spkts,dpkts,swin,stcpb,dtcpb,smeansz,dmeansz,res_bdy_len,sjit,djit,sintpkt,dintpkt,tcprtt,synack,ackdat,ct_state_ttl,ct_flw_http_mthd,ct_srv_src,ct_srv_dst,ct_dst_src_ltm,attack_cat,label)\n",
    "df.columns = df_feature['Name']"
   ]
  },
  {
   "cell_type": "code",
   "execution_count": 9,
   "metadata": {},
   "outputs": [
    {
     "data": {
      "text/plain": [
       "(254005, 49)"
      ]
     },
     "execution_count": 9,
     "metadata": {},
     "output_type": "execute_result"
    }
   ],
   "source": [
    "df.shape"
   ]
  },
  {
   "cell_type": "code",
   "execution_count": 10,
   "metadata": {},
   "outputs": [
    {
     "data": {
      "text/html": [
       "<div>\n",
       "<style scoped>\n",
       "    .dataframe tbody tr th:only-of-type {\n",
       "        vertical-align: middle;\n",
       "    }\n",
       "\n",
       "    .dataframe tbody tr th {\n",
       "        vertical-align: top;\n",
       "    }\n",
       "\n",
       "    .dataframe thead th {\n",
       "        text-align: right;\n",
       "    }\n",
       "</style>\n",
       "<table border=\"1\" class=\"dataframe\">\n",
       "  <thead>\n",
       "    <tr style=\"text-align: right;\">\n",
       "      <th>Name</th>\n",
       "      <th>srcip</th>\n",
       "      <th>sport</th>\n",
       "      <th>dstip</th>\n",
       "      <th>dsport</th>\n",
       "      <th>proto</th>\n",
       "      <th>state</th>\n",
       "      <th>dur</th>\n",
       "      <th>sbytes</th>\n",
       "      <th>dbytes</th>\n",
       "      <th>sttl</th>\n",
       "      <th>...</th>\n",
       "      <th>ct_ftp_cmd</th>\n",
       "      <th>ct_srv_src</th>\n",
       "      <th>ct_srv_dst</th>\n",
       "      <th>ct_dst_ltm</th>\n",
       "      <th>ct_src_ltm</th>\n",
       "      <th>ct_src_dport_ltm</th>\n",
       "      <th>ct_dst_sport_ltm</th>\n",
       "      <th>ct_dst_src_ltm</th>\n",
       "      <th>attack_cat</th>\n",
       "      <th>label</th>\n",
       "    </tr>\n",
       "  </thead>\n",
       "  <tbody>\n",
       "    <tr>\n",
       "      <th>322641</th>\n",
       "      <td>59.166.0.6</td>\n",
       "      <td>10498</td>\n",
       "      <td>149.171.126.8</td>\n",
       "      <td>44704</td>\n",
       "      <td>udp</td>\n",
       "      <td>CON</td>\n",
       "      <td>0.001770</td>\n",
       "      <td>520</td>\n",
       "      <td>304</td>\n",
       "      <td>31</td>\n",
       "      <td>...</td>\n",
       "      <td></td>\n",
       "      <td>4</td>\n",
       "      <td>5</td>\n",
       "      <td>2</td>\n",
       "      <td>9</td>\n",
       "      <td>1</td>\n",
       "      <td>1</td>\n",
       "      <td>3</td>\n",
       "      <td>NaN</td>\n",
       "      <td>0</td>\n",
       "    </tr>\n",
       "    <tr>\n",
       "      <th>299317</th>\n",
       "      <td>59.166.0.7</td>\n",
       "      <td>40444</td>\n",
       "      <td>149.171.126.2</td>\n",
       "      <td>6881</td>\n",
       "      <td>tcp</td>\n",
       "      <td>FIN</td>\n",
       "      <td>6.679858</td>\n",
       "      <td>32814</td>\n",
       "      <td>1445572</td>\n",
       "      <td>31</td>\n",
       "      <td>...</td>\n",
       "      <td>0</td>\n",
       "      <td>14</td>\n",
       "      <td>10</td>\n",
       "      <td>3</td>\n",
       "      <td>6</td>\n",
       "      <td>2</td>\n",
       "      <td>1</td>\n",
       "      <td>2</td>\n",
       "      <td>NaN</td>\n",
       "      <td>0</td>\n",
       "    </tr>\n",
       "    <tr>\n",
       "      <th>183555</th>\n",
       "      <td>59.166.0.0</td>\n",
       "      <td>60695</td>\n",
       "      <td>149.171.126.1</td>\n",
       "      <td>22</td>\n",
       "      <td>tcp</td>\n",
       "      <td>FIN</td>\n",
       "      <td>0.012547</td>\n",
       "      <td>5928</td>\n",
       "      <td>8010</td>\n",
       "      <td>31</td>\n",
       "      <td>...</td>\n",
       "      <td></td>\n",
       "      <td>1</td>\n",
       "      <td>1</td>\n",
       "      <td>1</td>\n",
       "      <td>10</td>\n",
       "      <td>1</td>\n",
       "      <td>1</td>\n",
       "      <td>1</td>\n",
       "      <td>NaN</td>\n",
       "      <td>0</td>\n",
       "    </tr>\n",
       "    <tr>\n",
       "      <th>355417</th>\n",
       "      <td>59.166.0.6</td>\n",
       "      <td>33288</td>\n",
       "      <td>149.171.126.2</td>\n",
       "      <td>143</td>\n",
       "      <td>tcp</td>\n",
       "      <td>FIN</td>\n",
       "      <td>0.779781</td>\n",
       "      <td>7804</td>\n",
       "      <td>15028</td>\n",
       "      <td>31</td>\n",
       "      <td>...</td>\n",
       "      <td>0</td>\n",
       "      <td>6</td>\n",
       "      <td>6</td>\n",
       "      <td>2</td>\n",
       "      <td>1</td>\n",
       "      <td>1</td>\n",
       "      <td>1</td>\n",
       "      <td>1</td>\n",
       "      <td>NaN</td>\n",
       "      <td>0</td>\n",
       "    </tr>\n",
       "    <tr>\n",
       "      <th>413288</th>\n",
       "      <td>59.166.0.8</td>\n",
       "      <td>42742</td>\n",
       "      <td>149.171.126.1</td>\n",
       "      <td>21</td>\n",
       "      <td>tcp</td>\n",
       "      <td>FIN</td>\n",
       "      <td>1.049232</td>\n",
       "      <td>2934</td>\n",
       "      <td>3742</td>\n",
       "      <td>31</td>\n",
       "      <td>...</td>\n",
       "      <td>1</td>\n",
       "      <td>1</td>\n",
       "      <td>1</td>\n",
       "      <td>4</td>\n",
       "      <td>3</td>\n",
       "      <td>1</td>\n",
       "      <td>1</td>\n",
       "      <td>5</td>\n",
       "      <td>NaN</td>\n",
       "      <td>0</td>\n",
       "    </tr>\n",
       "  </tbody>\n",
       "</table>\n",
       "<p>5 rows × 49 columns</p>\n",
       "</div>"
      ],
      "text/plain": [
       "Name         srcip  sport          dstip dsport proto state       dur  sbytes  \\\n",
       "322641  59.166.0.6  10498  149.171.126.8  44704   udp   CON  0.001770     520   \n",
       "299317  59.166.0.7  40444  149.171.126.2   6881   tcp   FIN  6.679858   32814   \n",
       "183555  59.166.0.0  60695  149.171.126.1     22   tcp   FIN  0.012547    5928   \n",
       "355417  59.166.0.6  33288  149.171.126.2    143   tcp   FIN  0.779781    7804   \n",
       "413288  59.166.0.8  42742  149.171.126.1     21   tcp   FIN  1.049232    2934   \n",
       "\n",
       "Name     dbytes  sttl  ...  ct_ftp_cmd  ct_srv_src  ct_srv_dst ct_dst_ltm  \\\n",
       "322641      304    31  ...                       4           5          2   \n",
       "299317  1445572    31  ...           0          14          10          3   \n",
       "183555     8010    31  ...                       1           1          1   \n",
       "355417    15028    31  ...           0           6           6          2   \n",
       "413288     3742    31  ...           1           1           1          4   \n",
       "\n",
       "Name    ct_src_ltm  ct_src_dport_ltm  ct_dst_sport_ltm  ct_dst_src_ltm  \\\n",
       "322641           9                 1                 1               3   \n",
       "299317           6                 2                 1               2   \n",
       "183555          10                 1                 1               1   \n",
       "355417           1                 1                 1               1   \n",
       "413288           3                 1                 1               5   \n",
       "\n",
       "Name    attack_cat  label  \n",
       "322641         NaN      0  \n",
       "299317         NaN      0  \n",
       "183555         NaN      0  \n",
       "355417         NaN      0  \n",
       "413288         NaN      0  \n",
       "\n",
       "[5 rows x 49 columns]"
      ]
     },
     "execution_count": 10,
     "metadata": {},
     "output_type": "execute_result"
    }
   ],
   "source": [
    "df.head(5)"
   ]
  },
  {
   "cell_type": "code",
   "execution_count": 11,
   "metadata": {},
   "outputs": [],
   "source": [
    "# Delete data frames 1,2,3, and 4\n",
    "\n",
    "del dataframe1\n",
    "del dataframe2\n",
    "del dataframe3\n",
    "del dataframe4"
   ]
  },
  {
   "cell_type": "markdown",
   "metadata": {},
   "source": [
    "## Data Exploration"
   ]
  },
  {
   "cell_type": "markdown",
   "metadata": {},
   "source": [
    "**Checking for Correlation between all features**"
   ]
  },
  {
   "cell_type": "code",
   "execution_count": 12,
   "metadata": {},
   "outputs": [],
   "source": [
    "import seaborn as sns\n",
    "import matplotlib.pyplot as plt\n"
   ]
  },
  {
   "cell_type": "code",
   "execution_count": 13,
   "metadata": {},
   "outputs": [
    {
     "data": {
      "text/html": [
       "<div>\n",
       "<style scoped>\n",
       "    .dataframe tbody tr th:only-of-type {\n",
       "        vertical-align: middle;\n",
       "    }\n",
       "\n",
       "    .dataframe tbody tr th {\n",
       "        vertical-align: top;\n",
       "    }\n",
       "\n",
       "    .dataframe thead th {\n",
       "        text-align: right;\n",
       "    }\n",
       "</style>\n",
       "<table border=\"1\" class=\"dataframe\">\n",
       "  <thead>\n",
       "    <tr style=\"text-align: right;\">\n",
       "      <th>Name</th>\n",
       "      <th>srcip</th>\n",
       "      <th>sport</th>\n",
       "      <th>dstip</th>\n",
       "      <th>dsport</th>\n",
       "      <th>proto</th>\n",
       "      <th>state</th>\n",
       "      <th>dur</th>\n",
       "      <th>sbytes</th>\n",
       "      <th>dbytes</th>\n",
       "      <th>sttl</th>\n",
       "      <th>...</th>\n",
       "      <th>ct_ftp_cmd</th>\n",
       "      <th>ct_srv_src</th>\n",
       "      <th>ct_srv_dst</th>\n",
       "      <th>ct_dst_ltm</th>\n",
       "      <th>ct_src_ltm</th>\n",
       "      <th>ct_src_dport_ltm</th>\n",
       "      <th>ct_dst_sport_ltm</th>\n",
       "      <th>ct_dst_src_ltm</th>\n",
       "      <th>attack_cat</th>\n",
       "      <th>label</th>\n",
       "    </tr>\n",
       "  </thead>\n",
       "  <tbody>\n",
       "    <tr>\n",
       "      <th>113731</th>\n",
       "      <td>59.166.0.7</td>\n",
       "      <td>37678</td>\n",
       "      <td>149.171.126.6</td>\n",
       "      <td>14153</td>\n",
       "      <td>tcp</td>\n",
       "      <td>FIN</td>\n",
       "      <td>0.030963</td>\n",
       "      <td>4238</td>\n",
       "      <td>61794</td>\n",
       "      <td>31</td>\n",
       "      <td>...</td>\n",
       "      <td>0</td>\n",
       "      <td>2</td>\n",
       "      <td>15</td>\n",
       "      <td>4</td>\n",
       "      <td>4</td>\n",
       "      <td>1</td>\n",
       "      <td>1</td>\n",
       "      <td>1</td>\n",
       "      <td>NaN</td>\n",
       "      <td>0</td>\n",
       "    </tr>\n",
       "    <tr>\n",
       "      <th>527889</th>\n",
       "      <td>175.45.176.0</td>\n",
       "      <td>53906</td>\n",
       "      <td>149.171.126.16</td>\n",
       "      <td>860</td>\n",
       "      <td>tcp</td>\n",
       "      <td>CON</td>\n",
       "      <td>0.795559</td>\n",
       "      <td>978</td>\n",
       "      <td>86</td>\n",
       "      <td>62</td>\n",
       "      <td>...</td>\n",
       "      <td></td>\n",
       "      <td>5</td>\n",
       "      <td>4</td>\n",
       "      <td>2</td>\n",
       "      <td>3</td>\n",
       "      <td>2</td>\n",
       "      <td>1</td>\n",
       "      <td>4</td>\n",
       "      <td>NaN</td>\n",
       "      <td>0</td>\n",
       "    </tr>\n",
       "    <tr>\n",
       "      <th>562510</th>\n",
       "      <td>59.166.0.2</td>\n",
       "      <td>46257</td>\n",
       "      <td>149.171.126.1</td>\n",
       "      <td>53</td>\n",
       "      <td>udp</td>\n",
       "      <td>CON</td>\n",
       "      <td>0.001077</td>\n",
       "      <td>146</td>\n",
       "      <td>178</td>\n",
       "      <td>31</td>\n",
       "      <td>...</td>\n",
       "      <td></td>\n",
       "      <td>2</td>\n",
       "      <td>2</td>\n",
       "      <td>1</td>\n",
       "      <td>1</td>\n",
       "      <td>1</td>\n",
       "      <td>1</td>\n",
       "      <td>2</td>\n",
       "      <td>NaN</td>\n",
       "      <td>0</td>\n",
       "    </tr>\n",
       "    <tr>\n",
       "      <th>255313</th>\n",
       "      <td>59.166.0.0</td>\n",
       "      <td>11237</td>\n",
       "      <td>149.171.126.6</td>\n",
       "      <td>53</td>\n",
       "      <td>udp</td>\n",
       "      <td>CON</td>\n",
       "      <td>0.001026</td>\n",
       "      <td>146</td>\n",
       "      <td>178</td>\n",
       "      <td>31</td>\n",
       "      <td>...</td>\n",
       "      <td>0</td>\n",
       "      <td>2</td>\n",
       "      <td>1</td>\n",
       "      <td>4</td>\n",
       "      <td>1</td>\n",
       "      <td>1</td>\n",
       "      <td>1</td>\n",
       "      <td>1</td>\n",
       "      <td>NaN</td>\n",
       "      <td>0</td>\n",
       "    </tr>\n",
       "    <tr>\n",
       "      <th>26873</th>\n",
       "      <td>149.171.126.18</td>\n",
       "      <td>1043</td>\n",
       "      <td>175.45.176.3</td>\n",
       "      <td>53</td>\n",
       "      <td>udp</td>\n",
       "      <td>INT</td>\n",
       "      <td>0.000008</td>\n",
       "      <td>264</td>\n",
       "      <td>0</td>\n",
       "      <td>60</td>\n",
       "      <td>...</td>\n",
       "      <td></td>\n",
       "      <td>53</td>\n",
       "      <td>53</td>\n",
       "      <td>4</td>\n",
       "      <td>4</td>\n",
       "      <td>4</td>\n",
       "      <td>4</td>\n",
       "      <td>53</td>\n",
       "      <td>NaN</td>\n",
       "      <td>0</td>\n",
       "    </tr>\n",
       "    <tr>\n",
       "      <th>...</th>\n",
       "      <td>...</td>\n",
       "      <td>...</td>\n",
       "      <td>...</td>\n",
       "      <td>...</td>\n",
       "      <td>...</td>\n",
       "      <td>...</td>\n",
       "      <td>...</td>\n",
       "      <td>...</td>\n",
       "      <td>...</td>\n",
       "      <td>...</td>\n",
       "      <td>...</td>\n",
       "      <td>...</td>\n",
       "      <td>...</td>\n",
       "      <td>...</td>\n",
       "      <td>...</td>\n",
       "      <td>...</td>\n",
       "      <td>...</td>\n",
       "      <td>...</td>\n",
       "      <td>...</td>\n",
       "      <td>...</td>\n",
       "      <td>...</td>\n",
       "    </tr>\n",
       "    <tr>\n",
       "      <th>507687</th>\n",
       "      <td>175.45.176.0</td>\n",
       "      <td>1043</td>\n",
       "      <td>149.171.126.12</td>\n",
       "      <td>53</td>\n",
       "      <td>udp</td>\n",
       "      <td>INT</td>\n",
       "      <td>0.000010</td>\n",
       "      <td>114</td>\n",
       "      <td>0</td>\n",
       "      <td>254</td>\n",
       "      <td>...</td>\n",
       "      <td></td>\n",
       "      <td>23</td>\n",
       "      <td>23</td>\n",
       "      <td>8</td>\n",
       "      <td>8</td>\n",
       "      <td>8</td>\n",
       "      <td>8</td>\n",
       "      <td>23</td>\n",
       "      <td>Generic</td>\n",
       "      <td>1</td>\n",
       "    </tr>\n",
       "    <tr>\n",
       "      <th>49970</th>\n",
       "      <td>59.166.0.4</td>\n",
       "      <td>15207</td>\n",
       "      <td>149.171.126.2</td>\n",
       "      <td>32912</td>\n",
       "      <td>tcp</td>\n",
       "      <td>FIN</td>\n",
       "      <td>0.322525</td>\n",
       "      <td>424</td>\n",
       "      <td>8824</td>\n",
       "      <td>31</td>\n",
       "      <td>...</td>\n",
       "      <td>0</td>\n",
       "      <td>3</td>\n",
       "      <td>3</td>\n",
       "      <td>6</td>\n",
       "      <td>3</td>\n",
       "      <td>1</td>\n",
       "      <td>1</td>\n",
       "      <td>3</td>\n",
       "      <td>NaN</td>\n",
       "      <td>0</td>\n",
       "    </tr>\n",
       "    <tr>\n",
       "      <th>473290</th>\n",
       "      <td>59.166.0.8</td>\n",
       "      <td>39145</td>\n",
       "      <td>149.171.126.4</td>\n",
       "      <td>2627</td>\n",
       "      <td>tcp</td>\n",
       "      <td>FIN</td>\n",
       "      <td>0.649362</td>\n",
       "      <td>320</td>\n",
       "      <td>1900</td>\n",
       "      <td>31</td>\n",
       "      <td>...</td>\n",
       "      <td>0</td>\n",
       "      <td>8</td>\n",
       "      <td>13</td>\n",
       "      <td>7</td>\n",
       "      <td>6</td>\n",
       "      <td>3</td>\n",
       "      <td>3</td>\n",
       "      <td>3</td>\n",
       "      <td>NaN</td>\n",
       "      <td>0</td>\n",
       "    </tr>\n",
       "    <tr>\n",
       "      <th>116974</th>\n",
       "      <td>59.166.0.1</td>\n",
       "      <td>1372</td>\n",
       "      <td>149.171.126.5</td>\n",
       "      <td>16074</td>\n",
       "      <td>tcp</td>\n",
       "      <td>FIN</td>\n",
       "      <td>0.017909</td>\n",
       "      <td>3302</td>\n",
       "      <td>35114</td>\n",
       "      <td>31</td>\n",
       "      <td>...</td>\n",
       "      <td></td>\n",
       "      <td>5</td>\n",
       "      <td>6</td>\n",
       "      <td>6</td>\n",
       "      <td>3</td>\n",
       "      <td>1</td>\n",
       "      <td>1</td>\n",
       "      <td>2</td>\n",
       "      <td>NaN</td>\n",
       "      <td>0</td>\n",
       "    </tr>\n",
       "    <tr>\n",
       "      <th>268571</th>\n",
       "      <td>59.166.0.0</td>\n",
       "      <td>29631</td>\n",
       "      <td>149.171.126.2</td>\n",
       "      <td>2473</td>\n",
       "      <td>tcp</td>\n",
       "      <td>FIN</td>\n",
       "      <td>0.017350</td>\n",
       "      <td>2558</td>\n",
       "      <td>23268</td>\n",
       "      <td>31</td>\n",
       "      <td>...</td>\n",
       "      <td></td>\n",
       "      <td>6</td>\n",
       "      <td>5</td>\n",
       "      <td>2</td>\n",
       "      <td>2</td>\n",
       "      <td>1</td>\n",
       "      <td>1</td>\n",
       "      <td>2</td>\n",
       "      <td>NaN</td>\n",
       "      <td>0</td>\n",
       "    </tr>\n",
       "  </tbody>\n",
       "</table>\n",
       "<p>63501 rows × 49 columns</p>\n",
       "</div>"
      ],
      "text/plain": [
       "Name             srcip  sport           dstip dsport proto state       dur  \\\n",
       "113731      59.166.0.7  37678   149.171.126.6  14153   tcp   FIN  0.030963   \n",
       "527889    175.45.176.0  53906  149.171.126.16    860   tcp   CON  0.795559   \n",
       "562510      59.166.0.2  46257   149.171.126.1     53   udp   CON  0.001077   \n",
       "255313      59.166.0.0  11237   149.171.126.6     53   udp   CON  0.001026   \n",
       "26873   149.171.126.18   1043    175.45.176.3     53   udp   INT  0.000008   \n",
       "...                ...    ...             ...    ...   ...   ...       ...   \n",
       "507687    175.45.176.0   1043  149.171.126.12     53   udp   INT  0.000010   \n",
       "49970       59.166.0.4  15207   149.171.126.2  32912   tcp   FIN  0.322525   \n",
       "473290      59.166.0.8  39145   149.171.126.4   2627   tcp   FIN  0.649362   \n",
       "116974      59.166.0.1   1372   149.171.126.5  16074   tcp   FIN  0.017909   \n",
       "268571      59.166.0.0  29631   149.171.126.2   2473   tcp   FIN  0.017350   \n",
       "\n",
       "Name    sbytes  dbytes  sttl  ...  ct_ftp_cmd  ct_srv_src  ct_srv_dst  \\\n",
       "113731    4238   61794    31  ...           0           2          15   \n",
       "527889     978      86    62  ...                       5           4   \n",
       "562510     146     178    31  ...                       2           2   \n",
       "255313     146     178    31  ...           0           2           1   \n",
       "26873      264       0    60  ...                      53          53   \n",
       "...        ...     ...   ...  ...         ...         ...         ...   \n",
       "507687     114       0   254  ...                      23          23   \n",
       "49970      424    8824    31  ...           0           3           3   \n",
       "473290     320    1900    31  ...           0           8          13   \n",
       "116974    3302   35114    31  ...                       5           6   \n",
       "268571    2558   23268    31  ...                       6           5   \n",
       "\n",
       "Name   ct_dst_ltm  ct_src_ltm  ct_src_dport_ltm  ct_dst_sport_ltm  \\\n",
       "113731          4           4                 1                 1   \n",
       "527889          2           3                 2                 1   \n",
       "562510          1           1                 1                 1   \n",
       "255313          4           1                 1                 1   \n",
       "26873           4           4                 4                 4   \n",
       "...           ...         ...               ...               ...   \n",
       "507687          8           8                 8                 8   \n",
       "49970           6           3                 1                 1   \n",
       "473290          7           6                 3                 3   \n",
       "116974          6           3                 1                 1   \n",
       "268571          2           2                 1                 1   \n",
       "\n",
       "Name    ct_dst_src_ltm  attack_cat  label  \n",
       "113731               1         NaN      0  \n",
       "527889               4         NaN      0  \n",
       "562510               2         NaN      0  \n",
       "255313               1         NaN      0  \n",
       "26873               53         NaN      0  \n",
       "...                ...         ...    ...  \n",
       "507687              23     Generic      1  \n",
       "49970                3         NaN      0  \n",
       "473290               3         NaN      0  \n",
       "116974               2         NaN      0  \n",
       "268571               2         NaN      0  \n",
       "\n",
       "[63501 rows x 49 columns]"
      ]
     },
     "execution_count": 13,
     "metadata": {},
     "output_type": "execute_result"
    }
   ],
   "source": [
    "# Take a sample of the dataframe for exploration purpose\n",
    "\n",
    "\n",
    "# generating one row \n",
    "sample = df.sample(frac =.25)\n",
    "  \n",
    "# checking if sample is 0.25 times data or not\n",
    "  \n",
    "if (0.25*(len(df))== len(sample)):\n",
    "    print( \"Cool\")\n",
    "    print(len(df), len(sample))\n",
    "  \n",
    "# display\n",
    "sample"
   ]
  },
  {
   "cell_type": "code",
   "execution_count": 14,
   "metadata": {},
   "outputs": [
    {
     "data": {
      "text/html": [
       "<div>\n",
       "<style scoped>\n",
       "    .dataframe tbody tr th:only-of-type {\n",
       "        vertical-align: middle;\n",
       "    }\n",
       "\n",
       "    .dataframe tbody tr th {\n",
       "        vertical-align: top;\n",
       "    }\n",
       "\n",
       "    .dataframe thead th {\n",
       "        text-align: right;\n",
       "    }\n",
       "</style>\n",
       "<table border=\"1\" class=\"dataframe\">\n",
       "  <thead>\n",
       "    <tr style=\"text-align: right;\">\n",
       "      <th>Name</th>\n",
       "      <th>dur</th>\n",
       "      <th>sbytes</th>\n",
       "      <th>dbytes</th>\n",
       "      <th>sttl</th>\n",
       "      <th>dttl</th>\n",
       "      <th>sloss</th>\n",
       "      <th>dloss</th>\n",
       "      <th>sload</th>\n",
       "      <th>dload</th>\n",
       "      <th>spkts</th>\n",
       "      <th>...</th>\n",
       "      <th>ct_flw_http_mthd</th>\n",
       "      <th>is_ftp_login</th>\n",
       "      <th>ct_srv_src</th>\n",
       "      <th>ct_srv_dst</th>\n",
       "      <th>ct_dst_ltm</th>\n",
       "      <th>ct_src_ltm</th>\n",
       "      <th>ct_src_dport_ltm</th>\n",
       "      <th>ct_dst_sport_ltm</th>\n",
       "      <th>ct_dst_src_ltm</th>\n",
       "      <th>label</th>\n",
       "    </tr>\n",
       "    <tr>\n",
       "      <th>Name</th>\n",
       "      <th></th>\n",
       "      <th></th>\n",
       "      <th></th>\n",
       "      <th></th>\n",
       "      <th></th>\n",
       "      <th></th>\n",
       "      <th></th>\n",
       "      <th></th>\n",
       "      <th></th>\n",
       "      <th></th>\n",
       "      <th></th>\n",
       "      <th></th>\n",
       "      <th></th>\n",
       "      <th></th>\n",
       "      <th></th>\n",
       "      <th></th>\n",
       "      <th></th>\n",
       "      <th></th>\n",
       "      <th></th>\n",
       "      <th></th>\n",
       "      <th></th>\n",
       "    </tr>\n",
       "  </thead>\n",
       "  <tbody>\n",
       "    <tr>\n",
       "      <th>dur</th>\n",
       "      <td>1.000000</td>\n",
       "      <td>0.013138</td>\n",
       "      <td>0.034398</td>\n",
       "      <td>-0.003216</td>\n",
       "      <td>0.002257</td>\n",
       "      <td>0.015796</td>\n",
       "      <td>0.034306</td>\n",
       "      <td>-0.007123</td>\n",
       "      <td>-0.011002</td>\n",
       "      <td>0.038725</td>\n",
       "      <td>...</td>\n",
       "      <td>0.004704</td>\n",
       "      <td>0.001615</td>\n",
       "      <td>-0.009962</td>\n",
       "      <td>-0.008841</td>\n",
       "      <td>-0.006264</td>\n",
       "      <td>-0.008123</td>\n",
       "      <td>-0.006329</td>\n",
       "      <td>-0.004274</td>\n",
       "      <td>-0.007831</td>\n",
       "      <td>0.000274</td>\n",
       "    </tr>\n",
       "    <tr>\n",
       "      <th>sbytes</th>\n",
       "      <td>0.013138</td>\n",
       "      <td>1.000000</td>\n",
       "      <td>0.053214</td>\n",
       "      <td>-0.011848</td>\n",
       "      <td>0.073135</td>\n",
       "      <td>0.934714</td>\n",
       "      <td>0.058248</td>\n",
       "      <td>-0.025478</td>\n",
       "      <td>-0.007820</td>\n",
       "      <td>0.554399</td>\n",
       "      <td>...</td>\n",
       "      <td>-0.014804</td>\n",
       "      <td>-0.024053</td>\n",
       "      <td>-0.040685</td>\n",
       "      <td>-0.040733</td>\n",
       "      <td>-0.033277</td>\n",
       "      <td>-0.033291</td>\n",
       "      <td>-0.033082</td>\n",
       "      <td>-0.033395</td>\n",
       "      <td>-0.036165</td>\n",
       "      <td>0.008841</td>\n",
       "    </tr>\n",
       "    <tr>\n",
       "      <th>dbytes</th>\n",
       "      <td>0.034398</td>\n",
       "      <td>0.053214</td>\n",
       "      <td>1.000000</td>\n",
       "      <td>-0.089462</td>\n",
       "      <td>0.013562</td>\n",
       "      <td>0.117419</td>\n",
       "      <td>0.991865</td>\n",
       "      <td>-0.068392</td>\n",
       "      <td>0.078629</td>\n",
       "      <td>0.739452</td>\n",
       "      <td>...</td>\n",
       "      <td>0.071677</td>\n",
       "      <td>-0.042709</td>\n",
       "      <td>-0.050814</td>\n",
       "      <td>-0.053958</td>\n",
       "      <td>-0.057430</td>\n",
       "      <td>-0.059896</td>\n",
       "      <td>-0.063234</td>\n",
       "      <td>-0.068691</td>\n",
       "      <td>-0.077097</td>\n",
       "      <td>-0.069241</td>\n",
       "    </tr>\n",
       "    <tr>\n",
       "      <th>sttl</th>\n",
       "      <td>-0.003216</td>\n",
       "      <td>-0.011848</td>\n",
       "      <td>-0.089462</td>\n",
       "      <td>1.000000</td>\n",
       "      <td>0.116479</td>\n",
       "      <td>-0.080236</td>\n",
       "      <td>-0.112831</td>\n",
       "      <td>0.289443</td>\n",
       "      <td>-0.247655</td>\n",
       "      <td>-0.159164</td>\n",
       "      <td>...</td>\n",
       "      <td>0.036476</td>\n",
       "      <td>-0.011497</td>\n",
       "      <td>0.458824</td>\n",
       "      <td>0.462248</td>\n",
       "      <td>0.399892</td>\n",
       "      <td>0.399316</td>\n",
       "      <td>0.460654</td>\n",
       "      <td>0.484547</td>\n",
       "      <td>0.518110</td>\n",
       "      <td>0.907600</td>\n",
       "    </tr>\n",
       "    <tr>\n",
       "      <th>dttl</th>\n",
       "      <td>0.002257</td>\n",
       "      <td>0.073135</td>\n",
       "      <td>0.013562</td>\n",
       "      <td>0.116479</td>\n",
       "      <td>1.000000</td>\n",
       "      <td>0.084612</td>\n",
       "      <td>0.018343</td>\n",
       "      <td>-0.224819</td>\n",
       "      <td>-0.022393</td>\n",
       "      <td>0.047430</td>\n",
       "      <td>...</td>\n",
       "      <td>0.158056</td>\n",
       "      <td>0.057559</td>\n",
       "      <td>-0.302606</td>\n",
       "      <td>-0.309480</td>\n",
       "      <td>-0.289301</td>\n",
       "      <td>-0.279775</td>\n",
       "      <td>-0.276382</td>\n",
       "      <td>-0.289930</td>\n",
       "      <td>-0.291067</td>\n",
       "      <td>0.131190</td>\n",
       "    </tr>\n",
       "    <tr>\n",
       "      <th>sloss</th>\n",
       "      <td>0.015796</td>\n",
       "      <td>0.934714</td>\n",
       "      <td>0.117419</td>\n",
       "      <td>-0.080236</td>\n",
       "      <td>0.084612</td>\n",
       "      <td>1.000000</td>\n",
       "      <td>0.158613</td>\n",
       "      <td>-0.081511</td>\n",
       "      <td>0.053182</td>\n",
       "      <td>0.696275</td>\n",
       "      <td>...</td>\n",
       "      <td>-0.072876</td>\n",
       "      <td>0.080061</td>\n",
       "      <td>-0.094386</td>\n",
       "      <td>-0.095168</td>\n",
       "      <td>-0.092017</td>\n",
       "      <td>-0.092097</td>\n",
       "      <td>-0.099248</td>\n",
       "      <td>-0.101885</td>\n",
       "      <td>-0.108768</td>\n",
       "      <td>-0.052012</td>\n",
       "    </tr>\n",
       "    <tr>\n",
       "      <th>dloss</th>\n",
       "      <td>0.034306</td>\n",
       "      <td>0.058248</td>\n",
       "      <td>0.991865</td>\n",
       "      <td>-0.112831</td>\n",
       "      <td>0.018343</td>\n",
       "      <td>0.158613</td>\n",
       "      <td>1.000000</td>\n",
       "      <td>-0.086894</td>\n",
       "      <td>0.102223</td>\n",
       "      <td>0.776592</td>\n",
       "      <td>...</td>\n",
       "      <td>0.056519</td>\n",
       "      <td>-0.016592</td>\n",
       "      <td>-0.071802</td>\n",
       "      <td>-0.075409</td>\n",
       "      <td>-0.078351</td>\n",
       "      <td>-0.080463</td>\n",
       "      <td>-0.086731</td>\n",
       "      <td>-0.092364</td>\n",
       "      <td>-0.102429</td>\n",
       "      <td>-0.088597</td>\n",
       "    </tr>\n",
       "    <tr>\n",
       "      <th>sload</th>\n",
       "      <td>-0.007123</td>\n",
       "      <td>-0.025478</td>\n",
       "      <td>-0.068392</td>\n",
       "      <td>0.289443</td>\n",
       "      <td>-0.224819</td>\n",
       "      <td>-0.081511</td>\n",
       "      <td>-0.086894</td>\n",
       "      <td>1.000000</td>\n",
       "      <td>-0.179406</td>\n",
       "      <td>-0.135082</td>\n",
       "      <td>...</td>\n",
       "      <td>-0.034192</td>\n",
       "      <td>-0.023459</td>\n",
       "      <td>0.490632</td>\n",
       "      <td>0.496802</td>\n",
       "      <td>0.446637</td>\n",
       "      <td>0.435189</td>\n",
       "      <td>0.491772</td>\n",
       "      <td>0.512430</td>\n",
       "      <td>0.531907</td>\n",
       "      <td>0.202520</td>\n",
       "    </tr>\n",
       "    <tr>\n",
       "      <th>dload</th>\n",
       "      <td>-0.011002</td>\n",
       "      <td>-0.007820</td>\n",
       "      <td>0.078629</td>\n",
       "      <td>-0.247655</td>\n",
       "      <td>-0.022393</td>\n",
       "      <td>0.053182</td>\n",
       "      <td>0.102223</td>\n",
       "      <td>-0.179406</td>\n",
       "      <td>1.000000</td>\n",
       "      <td>0.174747</td>\n",
       "      <td>...</td>\n",
       "      <td>-0.161338</td>\n",
       "      <td>-0.122543</td>\n",
       "      <td>-0.150558</td>\n",
       "      <td>-0.175523</td>\n",
       "      <td>-0.219838</td>\n",
       "      <td>-0.196817</td>\n",
       "      <td>-0.236237</td>\n",
       "      <td>-0.238653</td>\n",
       "      <td>-0.256922</td>\n",
       "      <td>-0.220581</td>\n",
       "    </tr>\n",
       "    <tr>\n",
       "      <th>spkts</th>\n",
       "      <td>0.038725</td>\n",
       "      <td>0.554399</td>\n",
       "      <td>0.739452</td>\n",
       "      <td>-0.159164</td>\n",
       "      <td>0.047430</td>\n",
       "      <td>0.696275</td>\n",
       "      <td>0.776592</td>\n",
       "      <td>-0.135082</td>\n",
       "      <td>0.174747</td>\n",
       "      <td>1.000000</td>\n",
       "      <td>...</td>\n",
       "      <td>0.002898</td>\n",
       "      <td>0.027617</td>\n",
       "      <td>-0.129548</td>\n",
       "      <td>-0.135105</td>\n",
       "      <td>-0.138359</td>\n",
       "      <td>-0.138132</td>\n",
       "      <td>-0.151536</td>\n",
       "      <td>-0.156709</td>\n",
       "      <td>-0.171529</td>\n",
       "      <td>-0.128145</td>\n",
       "    </tr>\n",
       "    <tr>\n",
       "      <th>dpkts</th>\n",
       "      <td>0.034589</td>\n",
       "      <td>0.109361</td>\n",
       "      <td>0.973167</td>\n",
       "      <td>-0.136544</td>\n",
       "      <td>0.023588</td>\n",
       "      <td>0.238982</td>\n",
       "      <td>0.992919</td>\n",
       "      <td>-0.106699</td>\n",
       "      <td>0.113570</td>\n",
       "      <td>0.829852</td>\n",
       "      <td>...</td>\n",
       "      <td>0.045324</td>\n",
       "      <td>-0.001371</td>\n",
       "      <td>-0.094482</td>\n",
       "      <td>-0.098150</td>\n",
       "      <td>-0.100334</td>\n",
       "      <td>-0.102212</td>\n",
       "      <td>-0.111232</td>\n",
       "      <td>-0.117701</td>\n",
       "      <td>-0.129083</td>\n",
       "      <td>-0.109543</td>\n",
       "    </tr>\n",
       "    <tr>\n",
       "      <th>swin</th>\n",
       "      <td>0.000568</td>\n",
       "      <td>0.070592</td>\n",
       "      <td>0.178831</td>\n",
       "      <td>-0.353418</td>\n",
       "      <td>0.305790</td>\n",
       "      <td>0.220175</td>\n",
       "      <td>0.229113</td>\n",
       "      <td>-0.370998</td>\n",
       "      <td>0.421382</td>\n",
       "      <td>0.352850</td>\n",
       "      <td>...</td>\n",
       "      <td>0.178690</td>\n",
       "      <td>0.126437</td>\n",
       "      <td>-0.421465</td>\n",
       "      <td>-0.437234</td>\n",
       "      <td>-0.410350</td>\n",
       "      <td>-0.394885</td>\n",
       "      <td>-0.452497</td>\n",
       "      <td>-0.478089</td>\n",
       "      <td>-0.484372</td>\n",
       "      <td>-0.318539</td>\n",
       "    </tr>\n",
       "    <tr>\n",
       "      <th>dwin</th>\n",
       "      <td>0.000421</td>\n",
       "      <td>0.070815</td>\n",
       "      <td>0.179415</td>\n",
       "      <td>-0.359879</td>\n",
       "      <td>0.307360</td>\n",
       "      <td>0.220577</td>\n",
       "      <td>0.229857</td>\n",
       "      <td>-0.371398</td>\n",
       "      <td>0.422954</td>\n",
       "      <td>0.353957</td>\n",
       "      <td>...</td>\n",
       "      <td>0.179169</td>\n",
       "      <td>0.126785</td>\n",
       "      <td>-0.422418</td>\n",
       "      <td>-0.437927</td>\n",
       "      <td>-0.410267</td>\n",
       "      <td>-0.394502</td>\n",
       "      <td>-0.450938</td>\n",
       "      <td>-0.476579</td>\n",
       "      <td>-0.485733</td>\n",
       "      <td>-0.317140</td>\n",
       "    </tr>\n",
       "    <tr>\n",
       "      <th>stcpb</th>\n",
       "      <td>0.000487</td>\n",
       "      <td>0.054528</td>\n",
       "      <td>0.134581</td>\n",
       "      <td>-0.266514</td>\n",
       "      <td>0.228434</td>\n",
       "      <td>0.165726</td>\n",
       "      <td>0.172280</td>\n",
       "      <td>-0.275420</td>\n",
       "      <td>0.313183</td>\n",
       "      <td>0.263990</td>\n",
       "      <td>...</td>\n",
       "      <td>0.121640</td>\n",
       "      <td>0.089154</td>\n",
       "      <td>-0.313004</td>\n",
       "      <td>-0.324109</td>\n",
       "      <td>-0.304386</td>\n",
       "      <td>-0.293095</td>\n",
       "      <td>-0.335064</td>\n",
       "      <td>-0.353665</td>\n",
       "      <td>-0.360563</td>\n",
       "      <td>-0.236206</td>\n",
       "    </tr>\n",
       "    <tr>\n",
       "      <th>dtcpb</th>\n",
       "      <td>0.000408</td>\n",
       "      <td>0.051801</td>\n",
       "      <td>0.135640</td>\n",
       "      <td>-0.267264</td>\n",
       "      <td>0.224619</td>\n",
       "      <td>0.164384</td>\n",
       "      <td>0.173602</td>\n",
       "      <td>-0.275929</td>\n",
       "      <td>0.318577</td>\n",
       "      <td>0.266048</td>\n",
       "      <td>...</td>\n",
       "      <td>0.129812</td>\n",
       "      <td>0.084309</td>\n",
       "      <td>-0.313570</td>\n",
       "      <td>-0.324300</td>\n",
       "      <td>-0.304519</td>\n",
       "      <td>-0.292830</td>\n",
       "      <td>-0.335541</td>\n",
       "      <td>-0.353797</td>\n",
       "      <td>-0.360917</td>\n",
       "      <td>-0.238721</td>\n",
       "    </tr>\n",
       "    <tr>\n",
       "      <th>smeansz</th>\n",
       "      <td>-0.002044</td>\n",
       "      <td>0.216862</td>\n",
       "      <td>-0.089405</td>\n",
       "      <td>-0.060154</td>\n",
       "      <td>0.094399</td>\n",
       "      <td>0.177529</td>\n",
       "      <td>-0.088152</td>\n",
       "      <td>0.050238</td>\n",
       "      <td>-0.195527</td>\n",
       "      <td>0.016589</td>\n",
       "      <td>...</td>\n",
       "      <td>-0.011884</td>\n",
       "      <td>-0.087654</td>\n",
       "      <td>-0.108586</td>\n",
       "      <td>-0.104511</td>\n",
       "      <td>-0.055127</td>\n",
       "      <td>-0.058243</td>\n",
       "      <td>-0.069605</td>\n",
       "      <td>-0.068797</td>\n",
       "      <td>-0.061310</td>\n",
       "      <td>-0.067207</td>\n",
       "    </tr>\n",
       "    <tr>\n",
       "      <th>dmeansz</th>\n",
       "      <td>0.011768</td>\n",
       "      <td>0.018566</td>\n",
       "      <td>0.566418</td>\n",
       "      <td>-0.334426</td>\n",
       "      <td>0.044706</td>\n",
       "      <td>0.100647</td>\n",
       "      <td>0.573490</td>\n",
       "      <td>-0.259518</td>\n",
       "      <td>0.570636</td>\n",
       "      <td>0.540806</td>\n",
       "      <td>...</td>\n",
       "      <td>0.174555</td>\n",
       "      <td>-0.158601</td>\n",
       "      <td>-0.260794</td>\n",
       "      <td>-0.281166</td>\n",
       "      <td>-0.289164</td>\n",
       "      <td>-0.276630</td>\n",
       "      <td>-0.312607</td>\n",
       "      <td>-0.323167</td>\n",
       "      <td>-0.347048</td>\n",
       "      <td>-0.274493</td>\n",
       "    </tr>\n",
       "    <tr>\n",
       "      <th>trans_depth</th>\n",
       "      <td>0.007710</td>\n",
       "      <td>-0.000693</td>\n",
       "      <td>0.146124</td>\n",
       "      <td>-0.077487</td>\n",
       "      <td>0.140644</td>\n",
       "      <td>-0.031096</td>\n",
       "      <td>0.127797</td>\n",
       "      <td>-0.093196</td>\n",
       "      <td>-0.135545</td>\n",
       "      <td>0.055892</td>\n",
       "      <td>...</td>\n",
       "      <td>0.699909</td>\n",
       "      <td>-0.062827</td>\n",
       "      <td>-0.177955</td>\n",
       "      <td>-0.174319</td>\n",
       "      <td>-0.107487</td>\n",
       "      <td>-0.108466</td>\n",
       "      <td>-0.107733</td>\n",
       "      <td>-0.109900</td>\n",
       "      <td>-0.130114</td>\n",
       "      <td>-0.038113</td>\n",
       "    </tr>\n",
       "    <tr>\n",
       "      <th>res_bdy_len</th>\n",
       "      <td>0.019343</td>\n",
       "      <td>0.025715</td>\n",
       "      <td>0.571562</td>\n",
       "      <td>-0.037625</td>\n",
       "      <td>0.008754</td>\n",
       "      <td>-0.014626</td>\n",
       "      <td>0.546372</td>\n",
       "      <td>-0.029345</td>\n",
       "      <td>0.008689</td>\n",
       "      <td>0.376183</td>\n",
       "      <td>...</td>\n",
       "      <td>0.153492</td>\n",
       "      <td>-0.020341</td>\n",
       "      <td>-0.058661</td>\n",
       "      <td>-0.057767</td>\n",
       "      <td>-0.033649</td>\n",
       "      <td>-0.039917</td>\n",
       "      <td>-0.034023</td>\n",
       "      <td>-0.034841</td>\n",
       "      <td>-0.041350</td>\n",
       "      <td>-0.027837</td>\n",
       "    </tr>\n",
       "    <tr>\n",
       "      <th>sjit</th>\n",
       "      <td>0.016416</td>\n",
       "      <td>0.003336</td>\n",
       "      <td>0.034412</td>\n",
       "      <td>0.033725</td>\n",
       "      <td>0.157480</td>\n",
       "      <td>0.011359</td>\n",
       "      <td>0.032726</td>\n",
       "      <td>-0.033802</td>\n",
       "      <td>-0.057170</td>\n",
       "      <td>0.025628</td>\n",
       "      <td>...</td>\n",
       "      <td>0.262060</td>\n",
       "      <td>0.022597</td>\n",
       "      <td>-0.048651</td>\n",
       "      <td>-0.049423</td>\n",
       "      <td>-0.038643</td>\n",
       "      <td>-0.038010</td>\n",
       "      <td>-0.035015</td>\n",
       "      <td>-0.036240</td>\n",
       "      <td>-0.039695</td>\n",
       "      <td>0.024678</td>\n",
       "    </tr>\n",
       "    <tr>\n",
       "      <th>djit</th>\n",
       "      <td>0.025864</td>\n",
       "      <td>0.002941</td>\n",
       "      <td>0.181232</td>\n",
       "      <td>-0.112865</td>\n",
       "      <td>0.056711</td>\n",
       "      <td>0.037176</td>\n",
       "      <td>0.175840</td>\n",
       "      <td>-0.099069</td>\n",
       "      <td>-0.158990</td>\n",
       "      <td>0.138908</td>\n",
       "      <td>...</td>\n",
       "      <td>0.485970</td>\n",
       "      <td>-0.048170</td>\n",
       "      <td>-0.156295</td>\n",
       "      <td>-0.151375</td>\n",
       "      <td>-0.106087</td>\n",
       "      <td>-0.119960</td>\n",
       "      <td>-0.110030</td>\n",
       "      <td>-0.112854</td>\n",
       "      <td>-0.131111</td>\n",
       "      <td>-0.081971</td>\n",
       "    </tr>\n",
       "    <tr>\n",
       "      <th>stime</th>\n",
       "      <td>-0.006736</td>\n",
       "      <td>-0.007970</td>\n",
       "      <td>-0.046786</td>\n",
       "      <td>0.317924</td>\n",
       "      <td>0.000814</td>\n",
       "      <td>-0.047103</td>\n",
       "      <td>-0.059512</td>\n",
       "      <td>0.247216</td>\n",
       "      <td>-0.119968</td>\n",
       "      <td>-0.087281</td>\n",
       "      <td>...</td>\n",
       "      <td>0.365148</td>\n",
       "      <td>0.708093</td>\n",
       "      <td>0.254889</td>\n",
       "      <td>0.261856</td>\n",
       "      <td>0.266233</td>\n",
       "      <td>0.255490</td>\n",
       "      <td>0.312836</td>\n",
       "      <td>0.328492</td>\n",
       "      <td>0.367819</td>\n",
       "      <td>0.279273</td>\n",
       "    </tr>\n",
       "    <tr>\n",
       "      <th>ltime</th>\n",
       "      <td>-0.006705</td>\n",
       "      <td>-0.007969</td>\n",
       "      <td>-0.046785</td>\n",
       "      <td>0.317924</td>\n",
       "      <td>0.000814</td>\n",
       "      <td>-0.047103</td>\n",
       "      <td>-0.059511</td>\n",
       "      <td>0.247216</td>\n",
       "      <td>-0.119968</td>\n",
       "      <td>-0.087280</td>\n",
       "      <td>...</td>\n",
       "      <td>0.365148</td>\n",
       "      <td>0.708093</td>\n",
       "      <td>0.254889</td>\n",
       "      <td>0.261856</td>\n",
       "      <td>0.266233</td>\n",
       "      <td>0.255489</td>\n",
       "      <td>0.312835</td>\n",
       "      <td>0.328492</td>\n",
       "      <td>0.367819</td>\n",
       "      <td>0.279273</td>\n",
       "    </tr>\n",
       "    <tr>\n",
       "      <th>sintpkt</th>\n",
       "      <td>0.035802</td>\n",
       "      <td>-0.005615</td>\n",
       "      <td>-0.013500</td>\n",
       "      <td>-0.046300</td>\n",
       "      <td>-0.036659</td>\n",
       "      <td>-0.016822</td>\n",
       "      <td>-0.017397</td>\n",
       "      <td>-0.021306</td>\n",
       "      <td>-0.040016</td>\n",
       "      <td>-0.027349</td>\n",
       "      <td>...</td>\n",
       "      <td>-0.014641</td>\n",
       "      <td>-0.015157</td>\n",
       "      <td>-0.045394</td>\n",
       "      <td>-0.043492</td>\n",
       "      <td>-0.037192</td>\n",
       "      <td>-0.041467</td>\n",
       "      <td>-0.024033</td>\n",
       "      <td>-0.020160</td>\n",
       "      <td>-0.030417</td>\n",
       "      <td>-0.019142</td>\n",
       "    </tr>\n",
       "    <tr>\n",
       "      <th>dintpkt</th>\n",
       "      <td>0.030736</td>\n",
       "      <td>-0.003138</td>\n",
       "      <td>-0.010068</td>\n",
       "      <td>-0.028543</td>\n",
       "      <td>-0.006219</td>\n",
       "      <td>-0.010520</td>\n",
       "      <td>-0.012787</td>\n",
       "      <td>-0.017193</td>\n",
       "      <td>-0.030847</td>\n",
       "      <td>-0.018978</td>\n",
       "      <td>...</td>\n",
       "      <td>-0.000440</td>\n",
       "      <td>-0.009523</td>\n",
       "      <td>-0.033566</td>\n",
       "      <td>-0.033396</td>\n",
       "      <td>-0.028469</td>\n",
       "      <td>-0.030320</td>\n",
       "      <td>-0.018055</td>\n",
       "      <td>-0.016427</td>\n",
       "      <td>-0.023254</td>\n",
       "      <td>-0.010988</td>\n",
       "    </tr>\n",
       "    <tr>\n",
       "      <th>tcprtt</th>\n",
       "      <td>0.004658</td>\n",
       "      <td>0.046944</td>\n",
       "      <td>-0.014752</td>\n",
       "      <td>0.213947</td>\n",
       "      <td>0.574035</td>\n",
       "      <td>0.035932</td>\n",
       "      <td>-0.017597</td>\n",
       "      <td>-0.043124</td>\n",
       "      <td>-0.068636</td>\n",
       "      <td>-0.006431</td>\n",
       "      <td>...</td>\n",
       "      <td>0.110817</td>\n",
       "      <td>0.028443</td>\n",
       "      <td>-0.068432</td>\n",
       "      <td>-0.072766</td>\n",
       "      <td>-0.075382</td>\n",
       "      <td>-0.073177</td>\n",
       "      <td>-0.053058</td>\n",
       "      <td>-0.055399</td>\n",
       "      <td>-0.051176</td>\n",
       "      <td>0.140885</td>\n",
       "    </tr>\n",
       "    <tr>\n",
       "      <th>synack</th>\n",
       "      <td>0.004082</td>\n",
       "      <td>0.039129</td>\n",
       "      <td>-0.014061</td>\n",
       "      <td>0.185601</td>\n",
       "      <td>0.499694</td>\n",
       "      <td>0.030308</td>\n",
       "      <td>-0.016477</td>\n",
       "      <td>-0.038859</td>\n",
       "      <td>-0.057795</td>\n",
       "      <td>-0.005647</td>\n",
       "      <td>...</td>\n",
       "      <td>0.098780</td>\n",
       "      <td>0.025195</td>\n",
       "      <td>-0.060166</td>\n",
       "      <td>-0.063942</td>\n",
       "      <td>-0.066815</td>\n",
       "      <td>-0.065699</td>\n",
       "      <td>-0.047629</td>\n",
       "      <td>-0.049904</td>\n",
       "      <td>-0.045746</td>\n",
       "      <td>0.115253</td>\n",
       "    </tr>\n",
       "    <tr>\n",
       "      <th>ackdat</th>\n",
       "      <td>0.004533</td>\n",
       "      <td>0.047992</td>\n",
       "      <td>-0.013045</td>\n",
       "      <td>0.210337</td>\n",
       "      <td>0.562371</td>\n",
       "      <td>0.036321</td>\n",
       "      <td>-0.015903</td>\n",
       "      <td>-0.040724</td>\n",
       "      <td>-0.069495</td>\n",
       "      <td>-0.006243</td>\n",
       "      <td>...</td>\n",
       "      <td>0.114823</td>\n",
       "      <td>0.029577</td>\n",
       "      <td>-0.066354</td>\n",
       "      <td>-0.070596</td>\n",
       "      <td>-0.072472</td>\n",
       "      <td>-0.069383</td>\n",
       "      <td>-0.050315</td>\n",
       "      <td>-0.052335</td>\n",
       "      <td>-0.048753</td>\n",
       "      <td>0.146545</td>\n",
       "    </tr>\n",
       "    <tr>\n",
       "      <th>is_sm_ips_ports</th>\n",
       "      <td>0.002766</td>\n",
       "      <td>-0.003905</td>\n",
       "      <td>-0.009363</td>\n",
       "      <td>-0.036611</td>\n",
       "      <td>-0.031200</td>\n",
       "      <td>-0.011492</td>\n",
       "      <td>-0.011958</td>\n",
       "      <td>-0.013924</td>\n",
       "      <td>-0.025256</td>\n",
       "      <td>-0.019348</td>\n",
       "      <td>...</td>\n",
       "      <td>-0.015498</td>\n",
       "      <td>-0.010825</td>\n",
       "      <td>-0.030238</td>\n",
       "      <td>-0.029311</td>\n",
       "      <td>-0.025386</td>\n",
       "      <td>-0.027711</td>\n",
       "      <td>-0.015382</td>\n",
       "      <td>-0.013717</td>\n",
       "      <td>-0.020050</td>\n",
       "      <td>-0.016609</td>\n",
       "    </tr>\n",
       "    <tr>\n",
       "      <th>ct_state_ttl</th>\n",
       "      <td>0.004756</td>\n",
       "      <td>-0.009264</td>\n",
       "      <td>-0.075831</td>\n",
       "      <td>0.900173</td>\n",
       "      <td>0.039299</td>\n",
       "      <td>-0.069584</td>\n",
       "      <td>-0.096502</td>\n",
       "      <td>0.222943</td>\n",
       "      <td>-0.220997</td>\n",
       "      <td>-0.139155</td>\n",
       "      <td>...</td>\n",
       "      <td>0.046658</td>\n",
       "      <td>-0.003696</td>\n",
       "      <td>0.389135</td>\n",
       "      <td>0.392690</td>\n",
       "      <td>0.336964</td>\n",
       "      <td>0.335759</td>\n",
       "      <td>0.385645</td>\n",
       "      <td>0.406190</td>\n",
       "      <td>0.444522</td>\n",
       "      <td>0.866279</td>\n",
       "    </tr>\n",
       "    <tr>\n",
       "      <th>ct_flw_http_mthd</th>\n",
       "      <td>0.004704</td>\n",
       "      <td>-0.014804</td>\n",
       "      <td>0.071677</td>\n",
       "      <td>0.036476</td>\n",
       "      <td>0.158056</td>\n",
       "      <td>-0.072876</td>\n",
       "      <td>0.056519</td>\n",
       "      <td>-0.034192</td>\n",
       "      <td>-0.161338</td>\n",
       "      <td>0.002898</td>\n",
       "      <td>...</td>\n",
       "      <td>1.000000</td>\n",
       "      <td>-0.031215</td>\n",
       "      <td>-0.113484</td>\n",
       "      <td>-0.117479</td>\n",
       "      <td>0.067494</td>\n",
       "      <td>0.054683</td>\n",
       "      <td>0.128530</td>\n",
       "      <td>0.186906</td>\n",
       "      <td>0.071099</td>\n",
       "      <td>0.089186</td>\n",
       "    </tr>\n",
       "    <tr>\n",
       "      <th>is_ftp_login</th>\n",
       "      <td>0.001615</td>\n",
       "      <td>-0.024053</td>\n",
       "      <td>-0.042709</td>\n",
       "      <td>-0.011497</td>\n",
       "      <td>0.057559</td>\n",
       "      <td>0.080061</td>\n",
       "      <td>-0.016592</td>\n",
       "      <td>-0.023459</td>\n",
       "      <td>-0.122543</td>\n",
       "      <td>0.027617</td>\n",
       "      <td>...</td>\n",
       "      <td>-0.031215</td>\n",
       "      <td>1.000000</td>\n",
       "      <td>-0.176910</td>\n",
       "      <td>-0.179731</td>\n",
       "      <td>0.080570</td>\n",
       "      <td>0.058311</td>\n",
       "      <td>-0.000082</td>\n",
       "      <td>0.042007</td>\n",
       "      <td>0.193119</td>\n",
       "      <td>0.023844</td>\n",
       "    </tr>\n",
       "    <tr>\n",
       "      <th>ct_srv_src</th>\n",
       "      <td>-0.009962</td>\n",
       "      <td>-0.040685</td>\n",
       "      <td>-0.050814</td>\n",
       "      <td>0.458824</td>\n",
       "      <td>-0.302606</td>\n",
       "      <td>-0.094386</td>\n",
       "      <td>-0.071802</td>\n",
       "      <td>0.490632</td>\n",
       "      <td>-0.150558</td>\n",
       "      <td>-0.129548</td>\n",
       "      <td>...</td>\n",
       "      <td>-0.113484</td>\n",
       "      <td>-0.176910</td>\n",
       "      <td>1.000000</td>\n",
       "      <td>0.956128</td>\n",
       "      <td>0.840476</td>\n",
       "      <td>0.844808</td>\n",
       "      <td>0.872259</td>\n",
       "      <td>0.843055</td>\n",
       "      <td>0.942707</td>\n",
       "      <td>0.387054</td>\n",
       "    </tr>\n",
       "    <tr>\n",
       "      <th>ct_srv_dst</th>\n",
       "      <td>-0.008841</td>\n",
       "      <td>-0.040733</td>\n",
       "      <td>-0.053958</td>\n",
       "      <td>0.462248</td>\n",
       "      <td>-0.309480</td>\n",
       "      <td>-0.095168</td>\n",
       "      <td>-0.075409</td>\n",
       "      <td>0.496802</td>\n",
       "      <td>-0.175523</td>\n",
       "      <td>-0.135105</td>\n",
       "      <td>...</td>\n",
       "      <td>-0.117479</td>\n",
       "      <td>-0.179731</td>\n",
       "      <td>0.956128</td>\n",
       "      <td>1.000000</td>\n",
       "      <td>0.863408</td>\n",
       "      <td>0.827907</td>\n",
       "      <td>0.878570</td>\n",
       "      <td>0.851628</td>\n",
       "      <td>0.951815</td>\n",
       "      <td>0.391533</td>\n",
       "    </tr>\n",
       "    <tr>\n",
       "      <th>ct_dst_ltm</th>\n",
       "      <td>-0.006264</td>\n",
       "      <td>-0.033277</td>\n",
       "      <td>-0.057430</td>\n",
       "      <td>0.399892</td>\n",
       "      <td>-0.289301</td>\n",
       "      <td>-0.092017</td>\n",
       "      <td>-0.078351</td>\n",
       "      <td>0.446637</td>\n",
       "      <td>-0.219838</td>\n",
       "      <td>-0.138359</td>\n",
       "      <td>...</td>\n",
       "      <td>0.067494</td>\n",
       "      <td>0.080570</td>\n",
       "      <td>0.840476</td>\n",
       "      <td>0.863408</td>\n",
       "      <td>1.000000</td>\n",
       "      <td>0.939742</td>\n",
       "      <td>0.961291</td>\n",
       "      <td>0.880333</td>\n",
       "      <td>0.880533</td>\n",
       "      <td>0.344966</td>\n",
       "    </tr>\n",
       "    <tr>\n",
       "      <th>ct_src_ltm</th>\n",
       "      <td>-0.008123</td>\n",
       "      <td>-0.033291</td>\n",
       "      <td>-0.059896</td>\n",
       "      <td>0.399316</td>\n",
       "      <td>-0.279775</td>\n",
       "      <td>-0.092097</td>\n",
       "      <td>-0.080463</td>\n",
       "      <td>0.435189</td>\n",
       "      <td>-0.196817</td>\n",
       "      <td>-0.138132</td>\n",
       "      <td>...</td>\n",
       "      <td>0.054683</td>\n",
       "      <td>0.058311</td>\n",
       "      <td>0.844808</td>\n",
       "      <td>0.827907</td>\n",
       "      <td>0.939742</td>\n",
       "      <td>1.000000</td>\n",
       "      <td>0.945391</td>\n",
       "      <td>0.859199</td>\n",
       "      <td>0.859345</td>\n",
       "      <td>0.347257</td>\n",
       "    </tr>\n",
       "    <tr>\n",
       "      <th>ct_src_dport_ltm</th>\n",
       "      <td>-0.006329</td>\n",
       "      <td>-0.033082</td>\n",
       "      <td>-0.063234</td>\n",
       "      <td>0.460654</td>\n",
       "      <td>-0.276382</td>\n",
       "      <td>-0.099248</td>\n",
       "      <td>-0.086731</td>\n",
       "      <td>0.491772</td>\n",
       "      <td>-0.236237</td>\n",
       "      <td>-0.151536</td>\n",
       "      <td>...</td>\n",
       "      <td>0.128530</td>\n",
       "      <td>-0.000082</td>\n",
       "      <td>0.872259</td>\n",
       "      <td>0.878570</td>\n",
       "      <td>0.961291</td>\n",
       "      <td>0.945391</td>\n",
       "      <td>1.000000</td>\n",
       "      <td>0.920429</td>\n",
       "      <td>0.912993</td>\n",
       "      <td>0.401857</td>\n",
       "    </tr>\n",
       "    <tr>\n",
       "      <th>ct_dst_sport_ltm</th>\n",
       "      <td>-0.004274</td>\n",
       "      <td>-0.033395</td>\n",
       "      <td>-0.068691</td>\n",
       "      <td>0.484547</td>\n",
       "      <td>-0.289930</td>\n",
       "      <td>-0.101885</td>\n",
       "      <td>-0.092364</td>\n",
       "      <td>0.512430</td>\n",
       "      <td>-0.238653</td>\n",
       "      <td>-0.156709</td>\n",
       "      <td>...</td>\n",
       "      <td>0.186906</td>\n",
       "      <td>0.042007</td>\n",
       "      <td>0.843055</td>\n",
       "      <td>0.851628</td>\n",
       "      <td>0.880333</td>\n",
       "      <td>0.859199</td>\n",
       "      <td>0.920429</td>\n",
       "      <td>1.000000</td>\n",
       "      <td>0.892624</td>\n",
       "      <td>0.426376</td>\n",
       "    </tr>\n",
       "    <tr>\n",
       "      <th>ct_dst_src_ltm</th>\n",
       "      <td>-0.007831</td>\n",
       "      <td>-0.036165</td>\n",
       "      <td>-0.077097</td>\n",
       "      <td>0.518110</td>\n",
       "      <td>-0.291067</td>\n",
       "      <td>-0.108768</td>\n",
       "      <td>-0.102429</td>\n",
       "      <td>0.531907</td>\n",
       "      <td>-0.256922</td>\n",
       "      <td>-0.171529</td>\n",
       "      <td>...</td>\n",
       "      <td>0.071099</td>\n",
       "      <td>0.193119</td>\n",
       "      <td>0.942707</td>\n",
       "      <td>0.951815</td>\n",
       "      <td>0.880533</td>\n",
       "      <td>0.859345</td>\n",
       "      <td>0.912993</td>\n",
       "      <td>0.892624</td>\n",
       "      <td>1.000000</td>\n",
       "      <td>0.444620</td>\n",
       "    </tr>\n",
       "    <tr>\n",
       "      <th>label</th>\n",
       "      <td>0.000274</td>\n",
       "      <td>0.008841</td>\n",
       "      <td>-0.069241</td>\n",
       "      <td>0.907600</td>\n",
       "      <td>0.131190</td>\n",
       "      <td>-0.052012</td>\n",
       "      <td>-0.088597</td>\n",
       "      <td>0.202520</td>\n",
       "      <td>-0.220581</td>\n",
       "      <td>-0.128145</td>\n",
       "      <td>...</td>\n",
       "      <td>0.089186</td>\n",
       "      <td>0.023844</td>\n",
       "      <td>0.387054</td>\n",
       "      <td>0.391533</td>\n",
       "      <td>0.344966</td>\n",
       "      <td>0.347257</td>\n",
       "      <td>0.401857</td>\n",
       "      <td>0.426376</td>\n",
       "      <td>0.444620</td>\n",
       "      <td>1.000000</td>\n",
       "    </tr>\n",
       "  </tbody>\n",
       "</table>\n",
       "<p>40 rows × 40 columns</p>\n",
       "</div>"
      ],
      "text/plain": [
       "Name                   dur    sbytes    dbytes      sttl      dttl     sloss  \\\n",
       "Name                                                                           \n",
       "dur               1.000000  0.013138  0.034398 -0.003216  0.002257  0.015796   \n",
       "sbytes            0.013138  1.000000  0.053214 -0.011848  0.073135  0.934714   \n",
       "dbytes            0.034398  0.053214  1.000000 -0.089462  0.013562  0.117419   \n",
       "sttl             -0.003216 -0.011848 -0.089462  1.000000  0.116479 -0.080236   \n",
       "dttl              0.002257  0.073135  0.013562  0.116479  1.000000  0.084612   \n",
       "sloss             0.015796  0.934714  0.117419 -0.080236  0.084612  1.000000   \n",
       "dloss             0.034306  0.058248  0.991865 -0.112831  0.018343  0.158613   \n",
       "sload            -0.007123 -0.025478 -0.068392  0.289443 -0.224819 -0.081511   \n",
       "dload            -0.011002 -0.007820  0.078629 -0.247655 -0.022393  0.053182   \n",
       "spkts             0.038725  0.554399  0.739452 -0.159164  0.047430  0.696275   \n",
       "dpkts             0.034589  0.109361  0.973167 -0.136544  0.023588  0.238982   \n",
       "swin              0.000568  0.070592  0.178831 -0.353418  0.305790  0.220175   \n",
       "dwin              0.000421  0.070815  0.179415 -0.359879  0.307360  0.220577   \n",
       "stcpb             0.000487  0.054528  0.134581 -0.266514  0.228434  0.165726   \n",
       "dtcpb             0.000408  0.051801  0.135640 -0.267264  0.224619  0.164384   \n",
       "smeansz          -0.002044  0.216862 -0.089405 -0.060154  0.094399  0.177529   \n",
       "dmeansz           0.011768  0.018566  0.566418 -0.334426  0.044706  0.100647   \n",
       "trans_depth       0.007710 -0.000693  0.146124 -0.077487  0.140644 -0.031096   \n",
       "res_bdy_len       0.019343  0.025715  0.571562 -0.037625  0.008754 -0.014626   \n",
       "sjit              0.016416  0.003336  0.034412  0.033725  0.157480  0.011359   \n",
       "djit              0.025864  0.002941  0.181232 -0.112865  0.056711  0.037176   \n",
       "stime            -0.006736 -0.007970 -0.046786  0.317924  0.000814 -0.047103   \n",
       "ltime            -0.006705 -0.007969 -0.046785  0.317924  0.000814 -0.047103   \n",
       "sintpkt           0.035802 -0.005615 -0.013500 -0.046300 -0.036659 -0.016822   \n",
       "dintpkt           0.030736 -0.003138 -0.010068 -0.028543 -0.006219 -0.010520   \n",
       "tcprtt            0.004658  0.046944 -0.014752  0.213947  0.574035  0.035932   \n",
       "synack            0.004082  0.039129 -0.014061  0.185601  0.499694  0.030308   \n",
       "ackdat            0.004533  0.047992 -0.013045  0.210337  0.562371  0.036321   \n",
       "is_sm_ips_ports   0.002766 -0.003905 -0.009363 -0.036611 -0.031200 -0.011492   \n",
       "ct_state_ttl      0.004756 -0.009264 -0.075831  0.900173  0.039299 -0.069584   \n",
       "ct_flw_http_mthd  0.004704 -0.014804  0.071677  0.036476  0.158056 -0.072876   \n",
       "is_ftp_login      0.001615 -0.024053 -0.042709 -0.011497  0.057559  0.080061   \n",
       "ct_srv_src       -0.009962 -0.040685 -0.050814  0.458824 -0.302606 -0.094386   \n",
       "ct_srv_dst       -0.008841 -0.040733 -0.053958  0.462248 -0.309480 -0.095168   \n",
       "ct_dst_ltm       -0.006264 -0.033277 -0.057430  0.399892 -0.289301 -0.092017   \n",
       "ct_src_ltm       -0.008123 -0.033291 -0.059896  0.399316 -0.279775 -0.092097   \n",
       "ct_src_dport_ltm -0.006329 -0.033082 -0.063234  0.460654 -0.276382 -0.099248   \n",
       "ct_dst_sport_ltm -0.004274 -0.033395 -0.068691  0.484547 -0.289930 -0.101885   \n",
       "ct_dst_src_ltm   -0.007831 -0.036165 -0.077097  0.518110 -0.291067 -0.108768   \n",
       "label             0.000274  0.008841 -0.069241  0.907600  0.131190 -0.052012   \n",
       "\n",
       "Name                 dloss     sload     dload     spkts  ...  \\\n",
       "Name                                                      ...   \n",
       "dur               0.034306 -0.007123 -0.011002  0.038725  ...   \n",
       "sbytes            0.058248 -0.025478 -0.007820  0.554399  ...   \n",
       "dbytes            0.991865 -0.068392  0.078629  0.739452  ...   \n",
       "sttl             -0.112831  0.289443 -0.247655 -0.159164  ...   \n",
       "dttl              0.018343 -0.224819 -0.022393  0.047430  ...   \n",
       "sloss             0.158613 -0.081511  0.053182  0.696275  ...   \n",
       "dloss             1.000000 -0.086894  0.102223  0.776592  ...   \n",
       "sload            -0.086894  1.000000 -0.179406 -0.135082  ...   \n",
       "dload             0.102223 -0.179406  1.000000  0.174747  ...   \n",
       "spkts             0.776592 -0.135082  0.174747  1.000000  ...   \n",
       "dpkts             0.992919 -0.106699  0.113570  0.829852  ...   \n",
       "swin              0.229113 -0.370998  0.421382  0.352850  ...   \n",
       "dwin              0.229857 -0.371398  0.422954  0.353957  ...   \n",
       "stcpb             0.172280 -0.275420  0.313183  0.263990  ...   \n",
       "dtcpb             0.173602 -0.275929  0.318577  0.266048  ...   \n",
       "smeansz          -0.088152  0.050238 -0.195527  0.016589  ...   \n",
       "dmeansz           0.573490 -0.259518  0.570636  0.540806  ...   \n",
       "trans_depth       0.127797 -0.093196 -0.135545  0.055892  ...   \n",
       "res_bdy_len       0.546372 -0.029345  0.008689  0.376183  ...   \n",
       "sjit              0.032726 -0.033802 -0.057170  0.025628  ...   \n",
       "djit              0.175840 -0.099069 -0.158990  0.138908  ...   \n",
       "stime            -0.059512  0.247216 -0.119968 -0.087281  ...   \n",
       "ltime            -0.059511  0.247216 -0.119968 -0.087280  ...   \n",
       "sintpkt          -0.017397 -0.021306 -0.040016 -0.027349  ...   \n",
       "dintpkt          -0.012787 -0.017193 -0.030847 -0.018978  ...   \n",
       "tcprtt           -0.017597 -0.043124 -0.068636 -0.006431  ...   \n",
       "synack           -0.016477 -0.038859 -0.057795 -0.005647  ...   \n",
       "ackdat           -0.015903 -0.040724 -0.069495 -0.006243  ...   \n",
       "is_sm_ips_ports  -0.011958 -0.013924 -0.025256 -0.019348  ...   \n",
       "ct_state_ttl     -0.096502  0.222943 -0.220997 -0.139155  ...   \n",
       "ct_flw_http_mthd  0.056519 -0.034192 -0.161338  0.002898  ...   \n",
       "is_ftp_login     -0.016592 -0.023459 -0.122543  0.027617  ...   \n",
       "ct_srv_src       -0.071802  0.490632 -0.150558 -0.129548  ...   \n",
       "ct_srv_dst       -0.075409  0.496802 -0.175523 -0.135105  ...   \n",
       "ct_dst_ltm       -0.078351  0.446637 -0.219838 -0.138359  ...   \n",
       "ct_src_ltm       -0.080463  0.435189 -0.196817 -0.138132  ...   \n",
       "ct_src_dport_ltm -0.086731  0.491772 -0.236237 -0.151536  ...   \n",
       "ct_dst_sport_ltm -0.092364  0.512430 -0.238653 -0.156709  ...   \n",
       "ct_dst_src_ltm   -0.102429  0.531907 -0.256922 -0.171529  ...   \n",
       "label            -0.088597  0.202520 -0.220581 -0.128145  ...   \n",
       "\n",
       "Name              ct_flw_http_mthd  is_ftp_login  ct_srv_src  ct_srv_dst  \\\n",
       "Name                                                                       \n",
       "dur                       0.004704      0.001615   -0.009962   -0.008841   \n",
       "sbytes                   -0.014804     -0.024053   -0.040685   -0.040733   \n",
       "dbytes                    0.071677     -0.042709   -0.050814   -0.053958   \n",
       "sttl                      0.036476     -0.011497    0.458824    0.462248   \n",
       "dttl                      0.158056      0.057559   -0.302606   -0.309480   \n",
       "sloss                    -0.072876      0.080061   -0.094386   -0.095168   \n",
       "dloss                     0.056519     -0.016592   -0.071802   -0.075409   \n",
       "sload                    -0.034192     -0.023459    0.490632    0.496802   \n",
       "dload                    -0.161338     -0.122543   -0.150558   -0.175523   \n",
       "spkts                     0.002898      0.027617   -0.129548   -0.135105   \n",
       "dpkts                     0.045324     -0.001371   -0.094482   -0.098150   \n",
       "swin                      0.178690      0.126437   -0.421465   -0.437234   \n",
       "dwin                      0.179169      0.126785   -0.422418   -0.437927   \n",
       "stcpb                     0.121640      0.089154   -0.313004   -0.324109   \n",
       "dtcpb                     0.129812      0.084309   -0.313570   -0.324300   \n",
       "smeansz                  -0.011884     -0.087654   -0.108586   -0.104511   \n",
       "dmeansz                   0.174555     -0.158601   -0.260794   -0.281166   \n",
       "trans_depth               0.699909     -0.062827   -0.177955   -0.174319   \n",
       "res_bdy_len               0.153492     -0.020341   -0.058661   -0.057767   \n",
       "sjit                      0.262060      0.022597   -0.048651   -0.049423   \n",
       "djit                      0.485970     -0.048170   -0.156295   -0.151375   \n",
       "stime                     0.365148      0.708093    0.254889    0.261856   \n",
       "ltime                     0.365148      0.708093    0.254889    0.261856   \n",
       "sintpkt                  -0.014641     -0.015157   -0.045394   -0.043492   \n",
       "dintpkt                  -0.000440     -0.009523   -0.033566   -0.033396   \n",
       "tcprtt                    0.110817      0.028443   -0.068432   -0.072766   \n",
       "synack                    0.098780      0.025195   -0.060166   -0.063942   \n",
       "ackdat                    0.114823      0.029577   -0.066354   -0.070596   \n",
       "is_sm_ips_ports          -0.015498     -0.010825   -0.030238   -0.029311   \n",
       "ct_state_ttl              0.046658     -0.003696    0.389135    0.392690   \n",
       "ct_flw_http_mthd          1.000000     -0.031215   -0.113484   -0.117479   \n",
       "is_ftp_login             -0.031215      1.000000   -0.176910   -0.179731   \n",
       "ct_srv_src               -0.113484     -0.176910    1.000000    0.956128   \n",
       "ct_srv_dst               -0.117479     -0.179731    0.956128    1.000000   \n",
       "ct_dst_ltm                0.067494      0.080570    0.840476    0.863408   \n",
       "ct_src_ltm                0.054683      0.058311    0.844808    0.827907   \n",
       "ct_src_dport_ltm          0.128530     -0.000082    0.872259    0.878570   \n",
       "ct_dst_sport_ltm          0.186906      0.042007    0.843055    0.851628   \n",
       "ct_dst_src_ltm            0.071099      0.193119    0.942707    0.951815   \n",
       "label                     0.089186      0.023844    0.387054    0.391533   \n",
       "\n",
       "Name              ct_dst_ltm  ct_src_ltm  ct_src_dport_ltm  ct_dst_sport_ltm  \\\n",
       "Name                                                                           \n",
       "dur                -0.006264   -0.008123         -0.006329         -0.004274   \n",
       "sbytes             -0.033277   -0.033291         -0.033082         -0.033395   \n",
       "dbytes             -0.057430   -0.059896         -0.063234         -0.068691   \n",
       "sttl                0.399892    0.399316          0.460654          0.484547   \n",
       "dttl               -0.289301   -0.279775         -0.276382         -0.289930   \n",
       "sloss              -0.092017   -0.092097         -0.099248         -0.101885   \n",
       "dloss              -0.078351   -0.080463         -0.086731         -0.092364   \n",
       "sload               0.446637    0.435189          0.491772          0.512430   \n",
       "dload              -0.219838   -0.196817         -0.236237         -0.238653   \n",
       "spkts              -0.138359   -0.138132         -0.151536         -0.156709   \n",
       "dpkts              -0.100334   -0.102212         -0.111232         -0.117701   \n",
       "swin               -0.410350   -0.394885         -0.452497         -0.478089   \n",
       "dwin               -0.410267   -0.394502         -0.450938         -0.476579   \n",
       "stcpb              -0.304386   -0.293095         -0.335064         -0.353665   \n",
       "dtcpb              -0.304519   -0.292830         -0.335541         -0.353797   \n",
       "smeansz            -0.055127   -0.058243         -0.069605         -0.068797   \n",
       "dmeansz            -0.289164   -0.276630         -0.312607         -0.323167   \n",
       "trans_depth        -0.107487   -0.108466         -0.107733         -0.109900   \n",
       "res_bdy_len        -0.033649   -0.039917         -0.034023         -0.034841   \n",
       "sjit               -0.038643   -0.038010         -0.035015         -0.036240   \n",
       "djit               -0.106087   -0.119960         -0.110030         -0.112854   \n",
       "stime               0.266233    0.255490          0.312836          0.328492   \n",
       "ltime               0.266233    0.255489          0.312835          0.328492   \n",
       "sintpkt            -0.037192   -0.041467         -0.024033         -0.020160   \n",
       "dintpkt            -0.028469   -0.030320         -0.018055         -0.016427   \n",
       "tcprtt             -0.075382   -0.073177         -0.053058         -0.055399   \n",
       "synack             -0.066815   -0.065699         -0.047629         -0.049904   \n",
       "ackdat             -0.072472   -0.069383         -0.050315         -0.052335   \n",
       "is_sm_ips_ports    -0.025386   -0.027711         -0.015382         -0.013717   \n",
       "ct_state_ttl        0.336964    0.335759          0.385645          0.406190   \n",
       "ct_flw_http_mthd    0.067494    0.054683          0.128530          0.186906   \n",
       "is_ftp_login        0.080570    0.058311         -0.000082          0.042007   \n",
       "ct_srv_src          0.840476    0.844808          0.872259          0.843055   \n",
       "ct_srv_dst          0.863408    0.827907          0.878570          0.851628   \n",
       "ct_dst_ltm          1.000000    0.939742          0.961291          0.880333   \n",
       "ct_src_ltm          0.939742    1.000000          0.945391          0.859199   \n",
       "ct_src_dport_ltm    0.961291    0.945391          1.000000          0.920429   \n",
       "ct_dst_sport_ltm    0.880333    0.859199          0.920429          1.000000   \n",
       "ct_dst_src_ltm      0.880533    0.859345          0.912993          0.892624   \n",
       "label               0.344966    0.347257          0.401857          0.426376   \n",
       "\n",
       "Name              ct_dst_src_ltm     label  \n",
       "Name                                        \n",
       "dur                    -0.007831  0.000274  \n",
       "sbytes                 -0.036165  0.008841  \n",
       "dbytes                 -0.077097 -0.069241  \n",
       "sttl                    0.518110  0.907600  \n",
       "dttl                   -0.291067  0.131190  \n",
       "sloss                  -0.108768 -0.052012  \n",
       "dloss                  -0.102429 -0.088597  \n",
       "sload                   0.531907  0.202520  \n",
       "dload                  -0.256922 -0.220581  \n",
       "spkts                  -0.171529 -0.128145  \n",
       "dpkts                  -0.129083 -0.109543  \n",
       "swin                   -0.484372 -0.318539  \n",
       "dwin                   -0.485733 -0.317140  \n",
       "stcpb                  -0.360563 -0.236206  \n",
       "dtcpb                  -0.360917 -0.238721  \n",
       "smeansz                -0.061310 -0.067207  \n",
       "dmeansz                -0.347048 -0.274493  \n",
       "trans_depth            -0.130114 -0.038113  \n",
       "res_bdy_len            -0.041350 -0.027837  \n",
       "sjit                   -0.039695  0.024678  \n",
       "djit                   -0.131111 -0.081971  \n",
       "stime                   0.367819  0.279273  \n",
       "ltime                   0.367819  0.279273  \n",
       "sintpkt                -0.030417 -0.019142  \n",
       "dintpkt                -0.023254 -0.010988  \n",
       "tcprtt                 -0.051176  0.140885  \n",
       "synack                 -0.045746  0.115253  \n",
       "ackdat                 -0.048753  0.146545  \n",
       "is_sm_ips_ports        -0.020050 -0.016609  \n",
       "ct_state_ttl            0.444522  0.866279  \n",
       "ct_flw_http_mthd        0.071099  0.089186  \n",
       "is_ftp_login            0.193119  0.023844  \n",
       "ct_srv_src              0.942707  0.387054  \n",
       "ct_srv_dst              0.951815  0.391533  \n",
       "ct_dst_ltm              0.880533  0.344966  \n",
       "ct_src_ltm              0.859345  0.347257  \n",
       "ct_src_dport_ltm        0.912993  0.401857  \n",
       "ct_dst_sport_ltm        0.892624  0.426376  \n",
       "ct_dst_src_ltm          1.000000  0.444620  \n",
       "label                   0.444620  1.000000  \n",
       "\n",
       "[40 rows x 40 columns]"
      ]
     },
     "execution_count": 14,
     "metadata": {},
     "output_type": "execute_result"
    }
   ],
   "source": [
    "sample.corr()"
   ]
  },
  {
   "cell_type": "code",
   "execution_count": 15,
   "metadata": {},
   "outputs": [
    {
     "data": {
      "image/png": "[encoded data removed]",
      "text/plain": [
       "<Figure size 864x864 with 2 Axes>"
      ]
     },
     "metadata": {
      "needs_background": "light"
     },
     "output_type": "display_data"
    }
   ],
   "source": [
    "plt.figure(figsize=(12, 12))\n",
    "method = \"pearson\"\n",
    "correlation = sample.corr(method=method)\n",
    "heatmap = sns.heatmap(correlation, vmin=-1, vmax=1, annot=False,square=True)\n",
    "# Give a title to the heatmap. Pad defines the distance of the title from the top of the heatmap.\n",
    "heatmap.set_title('Correlation Heatmap', pad=12);\n"
   ]
  },
  {
   "cell_type": "code",
   "execution_count": 16,
   "metadata": {},
   "outputs": [
    {
     "name": "stdout",
     "output_type": "stream",
     "text": [
      "sbytes               sloss                0.9347136460329312\n",
      "dbytes               dloss                0.99186457358446\n",
      "dbytes               dpkts                0.9731668132417591\n",
      "sttl                 ct_state_ttl         0.9001729114521915\n",
      "sttl                 label                0.9076002373842105\n",
      "dloss                dpkts                0.992918623669017\n",
      "swin                 dwin                 0.9967695386888482\n",
      "stime                ltime                0.9999999995194627\n",
      "tcprtt               synack               0.9321480748479806\n",
      "tcprtt               ackdat               0.9085372451467206\n",
      "ct_srv_src           ct_srv_dst           0.9561283658127758\n",
      "ct_srv_src           ct_dst_src_ltm       0.9427072795145118\n",
      "ct_srv_dst           ct_dst_src_ltm       0.9518152080458572\n",
      "ct_dst_ltm           ct_src_ltm           0.9397424933840538\n",
      "ct_dst_ltm           ct_src_dport_ltm     0.9612911046421835\n",
      "ct_src_ltm           ct_src_dport_ltm     0.945390517237629\n",
      "ct_src_dport_ltm     ct_dst_sport_ltm     0.9204288721160806\n",
      "ct_src_dport_ltm     ct_dst_src_ltm       0.91299317746074\n"
     ]
    }
   ],
   "source": [
    "# Getting and printing high correlated features\n",
    "limit = 0.9\n",
    "\n",
    "columns = correlation.columns\n",
    "for i in range(correlation.shape[0]):\n",
    "    for j in range(i+1, correlation.shape[0]):\n",
    "        if correlation.iloc[i, j] >= 0.9:\n",
    "            print(f\"{columns[i]:20s} {columns[j]:20s} {correlation.iloc[i, j]}\")\n"
   ]
  },
  {
   "cell_type": "markdown",
   "metadata": {},
   "source": []
  },
  {
   "cell_type": "markdown",
   "metadata": {},
   "source": [
    "\n",
    "Most correlated features are:\n",
    "\n",
    "- sbytes, sloss\n",
    "- dpkts, dbytes, dloss\n",
    "- sttl, ct_state_ttl, label\n",
    "- swin, dwin\n",
    "- stime, dtime\n",
    "- tcprtt, synack, ackdat\n",
    "- ct_srv_src, ct_dst_src_ltm, ct_srv_dst\n",
    "- ct_dst_ltm, ct_src_ltm, ct_src_dport_ltm, ct_dst_sport_ltm"
   ]
  },
  {
   "cell_type": "markdown",
   "metadata": {},
   "source": []
  },
  {
   "cell_type": "markdown",
   "metadata": {},
   "source": [
    "### Data cleaning and Preprocessing"
   ]
  },
  {
   "cell_type": "code",
   "execution_count": 17,
   "metadata": {},
   "outputs": [
    {
     "data": {
      "text/plain": [
       "(254005, 49)"
      ]
     },
     "execution_count": 17,
     "metadata": {},
     "output_type": "execute_result"
    }
   ],
   "source": [
    "df.shape\n"
   ]
  },
  {
   "cell_type": "markdown",
   "metadata": {},
   "source": [
    "**Checking For Data types of the attributes, feature type(categorical, numerical,binary)**"
   ]
  },
  {
   "cell_type": "code",
   "execution_count": 18,
   "metadata": {},
   "outputs": [
    {
     "data": {
      "text/plain": [
       "int64      28\n",
       "float64    12\n",
       "object      9\n",
       "dtype: int64"
      ]
     },
     "execution_count": 18,
     "metadata": {},
     "output_type": "execute_result"
    }
   ],
   "source": [
    "# All the datatypes in our dataset\n",
    "df.dtypes.value_counts()"
   ]
  },
  {
   "cell_type": "code",
   "execution_count": 19,
   "metadata": {},
   "outputs": [
    {
     "data": {
      "text/plain": [
       "Index(['srcip', 'sport', 'dstip', 'dsport', 'proto', 'state', 'service',\n",
       "       'ct_ftp_cmd', 'attack_cat'],\n",
       "      dtype='object', name='Name')"
      ]
     },
     "execution_count": 19,
     "metadata": {},
     "output_type": "execute_result"
    }
   ],
   "source": [
    "# Categorical feature names\n",
    "\n",
    "df.select_dtypes(exclude=np.number).columns\n"
   ]
  },
  {
   "cell_type": "code",
   "execution_count": 20,
   "metadata": {},
   "outputs": [
    {
     "data": {
      "text/plain": [
       "array([' ', '0', '1', 0, 1, 3, 4, 5, '4', 2, '2', 6, 8], dtype=object)"
      ]
     },
     "execution_count": 20,
     "metadata": {},
     "output_type": "execute_result"
    }
   ],
   "source": [
    "# In research paper it is given that the column 'ct_ftp_cmd' is a numerical feature not a categorical\n",
    "\n",
    "df['ct_ftp_cmd'].unique()"
   ]
  },
  {
   "cell_type": "code",
   "execution_count": 21,
   "metadata": {},
   "outputs": [],
   "source": [
    "# We can see space in the attribute ct_ftp_cmd replacing it by zero and converting to numerical datatype\n",
    "\n",
    "df['ct_ftp_cmd'] = df['ct_ftp_cmd'].replace(to_replace=' ', value=0).astype(int)\n"
   ]
  },
  {
   "cell_type": "code",
   "execution_count": 22,
   "metadata": {},
   "outputs": [
    {
     "data": {
      "text/plain": [
       "array([0, 1, 3, 4, 5, 2, 6, 8])"
      ]
     },
     "execution_count": 22,
     "metadata": {},
     "output_type": "execute_result"
    }
   ],
   "source": [
    "# Checking for the new change\n",
    "\n",
    "df['ct_ftp_cmd'].unique()"
   ]
  },
  {
   "cell_type": "code",
   "execution_count": 23,
   "metadata": {},
   "outputs": [
    {
     "data": {
      "text/plain": [
       "Index(['srcip', 'sport', 'dstip', 'dsport', 'proto', 'state', 'service',\n",
       "       'attack_cat'],\n",
       "      dtype='object', name='Name')"
      ]
     },
     "execution_count": 23,
     "metadata": {},
     "output_type": "execute_result"
    }
   ],
   "source": [
    "# Checking for categorical names\n",
    "\n",
    "df.select_dtypes(exclude=np.number).columns"
   ]
  },
  {
   "cell_type": "code",
   "execution_count": 24,
   "metadata": {},
   "outputs": [
    {
     "data": {
      "text/plain": [
       "Index(['dur', 'sbytes', 'dbytes', 'sttl', 'dttl', 'sloss', 'dloss', 'sload',\n",
       "       'dload', 'spkts', 'dpkts', 'swin', 'dwin', 'stcpb', 'dtcpb', 'smeansz',\n",
       "       'dmeansz', 'trans_depth', 'res_bdy_len', 'sjit', 'djit', 'stime',\n",
       "       'ltime', 'sintpkt', 'dintpkt', 'tcprtt', 'synack', 'ackdat',\n",
       "       'is_sm_ips_ports', 'ct_state_ttl', 'ct_flw_http_mthd', 'is_ftp_login',\n",
       "       'ct_ftp_cmd', 'ct_srv_src', 'ct_srv_dst', 'ct_dst_ltm', 'ct_src_ltm',\n",
       "       'ct_src_dport_ltm', 'ct_dst_sport_ltm', 'ct_dst_src_ltm', 'label'],\n",
       "      dtype='object', name='Name')"
      ]
     },
     "execution_count": 24,
     "metadata": {},
     "output_type": "execute_result"
    }
   ],
   "source": [
    "# Numerical feature names\n",
    "\n",
    "df.select_dtypes(include=np.number).columns"
   ]
  },
  {
   "cell_type": "markdown",
   "metadata": {},
   "source": [
    "**The target features of this dataset are 'attack_cat' and 'label'.**"
   ]
  },
  {
   "cell_type": "code",
   "execution_count": 25,
   "metadata": {},
   "outputs": [
    {
     "name": "stdout",
     "output_type": "stream",
     "text": [
      "0    253575\n",
      "1       430\n",
      "Name: is_sm_ips_ports, dtype: int64\n",
      "\n",
      "0.0    106568\n",
      "1.0      4410\n",
      "4.0        16\n",
      "2.0         3\n",
      "Name: is_ftp_login, dtype: int64\n",
      "\n"
     ]
    }
   ],
   "source": [
    "# Checking for binary features\n",
    "\n",
    "for col in 'is_sm_ips_ports', 'is_ftp_login':\n",
    "    print(df[col].value_counts())\n",
    "    print()"
   ]
  },
  {
   "cell_type": "markdown",
   "metadata": {},
   "source": [
    "is_ftp_login feature is having non binary values we need to fix them by replacing them to 1, 0"
   ]
  },
  {
   "cell_type": "code",
   "execution_count": 26,
   "metadata": {},
   "outputs": [],
   "source": [
    "df['is_ftp_login'] = np.where(df['is_ftp_login']>1, 1, df['is_ftp_login'])"
   ]
  },
  {
   "cell_type": "code",
   "execution_count": 27,
   "metadata": {},
   "outputs": [
    {
     "data": {
      "text/plain": [
       "0.0    106568\n",
       "1.0      4429\n",
       "Name: is_ftp_login, dtype: int64"
      ]
     },
     "execution_count": 27,
     "metadata": {},
     "output_type": "execute_result"
    }
   ],
   "source": [
    "df['is_ftp_login'].value_counts()"
   ]
  },
  {
   "cell_type": "markdown",
   "metadata": {},
   "source": [
    "**Removing '-' values in the feature service**"
   ]
  },
  {
   "cell_type": "code",
   "execution_count": 28,
   "metadata": {},
   "outputs": [
    {
     "data": {
      "text/plain": [
       "-           124492\n",
       "dns          78111\n",
       "http         20796\n",
       "ftp-data     12463\n",
       "smtp          8260\n",
       "ftp           4984\n",
       "ssh           4703\n",
       "pop3           156\n",
       "ssl             15\n",
       "dhcp            10\n",
       "snmp             9\n",
       "irc              4\n",
       "radius           2\n",
       "Name: service, dtype: int64"
      ]
     },
     "execution_count": 28,
     "metadata": {},
     "output_type": "execute_result"
    }
   ],
   "source": [
    "# service feature is having - values replace them by adding Null\n",
    "df['service'].value_counts()"
   ]
  },
  {
   "cell_type": "code",
   "execution_count": 29,
   "metadata": {},
   "outputs": [],
   "source": [
    "df['service'] = df['service'].apply(lambda x:\"None\" if x==\"-\" else x)"
   ]
  },
  {
   "cell_type": "markdown",
   "metadata": {},
   "source": [
    "**Handling null values**"
   ]
  },
  {
   "cell_type": "code",
   "execution_count": 30,
   "metadata": {},
   "outputs": [
    {
     "data": {
      "text/plain": [
       "Name\n",
       "srcip                    0\n",
       "sport                    0\n",
       "dstip                    0\n",
       "dsport                   0\n",
       "proto                    0\n",
       "state                    0\n",
       "dur                      0\n",
       "sbytes                   0\n",
       "dbytes                   0\n",
       "sttl                     0\n",
       "dttl                     0\n",
       "sloss                    0\n",
       "dloss                    0\n",
       "service                  0\n",
       "sload                    0\n",
       "dload                    0\n",
       "spkts                    0\n",
       "dpkts                    0\n",
       "swin                     0\n",
       "dwin                     0\n",
       "stcpb                    0\n",
       "dtcpb                    0\n",
       "smeansz                  0\n",
       "dmeansz                  0\n",
       "trans_depth              0\n",
       "res_bdy_len              0\n",
       "sjit                     0\n",
       "djit                     0\n",
       "stime                    0\n",
       "ltime                    0\n",
       "sintpkt                  0\n",
       "dintpkt                  0\n",
       "tcprtt                   0\n",
       "synack                   0\n",
       "ackdat                   0\n",
       "is_sm_ips_ports          0\n",
       "ct_state_ttl             0\n",
       "ct_flw_http_mthd    134867\n",
       "is_ftp_login        143008\n",
       "ct_ftp_cmd               0\n",
       "ct_srv_src               0\n",
       "ct_srv_dst               0\n",
       "ct_dst_ltm               0\n",
       "ct_src_ltm               0\n",
       "ct_src_dport_ltm         0\n",
       "ct_dst_sport_ltm         0\n",
       "ct_dst_src_ltm           0\n",
       "attack_cat          221812\n",
       "label                    0\n",
       "dtype: int64"
      ]
     },
     "execution_count": 30,
     "metadata": {},
     "output_type": "execute_result"
    }
   ],
   "source": [
    "# Checking for null values\n",
    "\n",
    "df.isnull().sum()"
   ]
  },
  {
   "cell_type": "markdown",
   "metadata": {},
   "source": [
    "Seems like colummns ct_flw_http_mthd, is_ftp_login, and attack_cat are having null values.\n",
    " "
   ]
  },
  {
   "cell_type": "code",
   "execution_count": 31,
   "metadata": {},
   "outputs": [
    {
     "data": {
      "text/plain": [
       "Generic             21669\n",
       "Exploits             4417\n",
       " Fuzzers             1925\n",
       "DoS                  1631\n",
       " Reconnaissance      1210\n",
       " Fuzzers              489\n",
       "Analysis              261\n",
       "Reconnaissance        192\n",
       "Backdoor              186\n",
       " Shellcode            138\n",
       "Backdoors              40\n",
       "Shellcode              21\n",
       "Worms                  14\n",
       "Name: attack_cat, dtype: int64"
      ]
     },
     "execution_count": 31,
     "metadata": {},
     "output_type": "execute_result"
    }
   ],
   "source": [
    "df['attack_cat'].value_counts()"
   ]
  },
  {
   "cell_type": "markdown",
   "metadata": {},
   "source": [
    "attack_cat records were classified as null when the attack label was zero. These were duly converted as ‘Normal’ type of attack."
   ]
  },
  {
   "cell_type": "code",
   "execution_count": 32,
   "metadata": {},
   "outputs": [],
   "source": [
    "df['attack_cat'] = df.attack_cat.fillna(value='normal').apply(lambda x: x.strip().lower())"
   ]
  },
  {
   "cell_type": "code",
   "execution_count": 33,
   "metadata": {},
   "outputs": [
    {
     "data": {
      "text/plain": [
       "0.0     98435\n",
       "1.0     18923\n",
       "6.0       841\n",
       "4.0       695\n",
       "3.0        65\n",
       "2.0        49\n",
       "5.0        42\n",
       "14.0       30\n",
       "9.0        27\n",
       "12.0       10\n",
       "30.0        6\n",
       "16.0        6\n",
       "8.0         5\n",
       "36.0        2\n",
       "25.0        1\n",
       "10.0        1\n",
       "Name: ct_flw_http_mthd, dtype: int64"
      ]
     },
     "execution_count": 33,
     "metadata": {},
     "output_type": "execute_result"
    }
   ],
   "source": [
    "df['ct_flw_http_mthd'].value_counts()"
   ]
  },
  {
   "cell_type": "code",
   "execution_count": 34,
   "metadata": {},
   "outputs": [],
   "source": [
    "# Filling zero for ct_flw_http_mthd and is_ftp_login\n",
    "\n",
    "df['ct_flw_http_mthd'] = df.ct_flw_http_mthd.fillna(value=0)"
   ]
  },
  {
   "cell_type": "code",
   "execution_count": 35,
   "metadata": {},
   "outputs": [],
   "source": [
    "#is_ftp_login column is  a binary column, but there're values like 2 and 4 so changining it to a int type\n",
    "\n",
    "df['is_ftp_login'].value_counts()\n",
    "\n",
    "df['is_ftp_login'] = df.is_ftp_login.fillna(value=0).astype('int')"
   ]
  },
  {
   "cell_type": "markdown",
   "metadata": {},
   "source": [
    "**Checking for unique values**"
   ]
  },
  {
   "cell_type": "code",
   "execution_count": 36,
   "metadata": {},
   "outputs": [
    {
     "data": {
      "text/plain": [
       "array(['normal', 'generic', 'dos', 'exploits', 'fuzzers',\n",
       "       'reconnaissance', 'backdoor', 'analysis', 'shellcode', 'backdoors',\n",
       "       'worms'], dtype=object)"
      ]
     },
     "execution_count": 36,
     "metadata": {},
     "output_type": "execute_result"
    }
   ],
   "source": [
    "#Checking for attack_cat unique values \n",
    "\n",
    "df['attack_cat'].unique()"
   ]
  },
  {
   "cell_type": "markdown",
   "metadata": {},
   "source": [
    "Research paper says there are not 11 unique values for attack_cat so need to fix it. # Redundancy in the attack categories like ‘Backdoors’ and ‘Backdoor’ although both belong to the same class.Uniformity was brought in such scenarios."
   ]
  },
  {
   "cell_type": "code",
   "execution_count": 37,
   "metadata": {},
   "outputs": [],
   "source": [
    "# Fixing it by using strip, replacing backdoors to backdoor\n",
    "\n",
    "df['attack_cat'] = df['attack_cat'].replace('backdoors','backdoor', regex=True).apply(lambda x: x.strip().lower())\n"
   ]
  },
  {
   "cell_type": "code",
   "execution_count": 38,
   "metadata": {},
   "outputs": [
    {
     "data": {
      "text/plain": [
       "array(['normal', 'generic', 'dos', 'exploits', 'fuzzers',\n",
       "       'reconnaissance', 'backdoor', 'analysis', 'shellcode', 'worms'],\n",
       "      dtype=object)"
      ]
     },
     "execution_count": 38,
     "metadata": {},
     "output_type": "execute_result"
    }
   ],
   "source": [
    "df['attack_cat'].unique()"
   ]
  },
  {
   "cell_type": "markdown",
   "metadata": {},
   "source": [
    "\n"
   ]
  },
  {
   "cell_type": "markdown",
   "metadata": {},
   "source": [
    "### Data Exploration after cleaning"
   ]
  },
  {
   "cell_type": "markdown",
   "metadata": {},
   "source": [
    "**Counter Plot for number of attacks**"
   ]
  },
  {
   "cell_type": "code",
   "execution_count": 39,
   "metadata": {},
   "outputs": [
    {
     "data": {
      "text/plain": [
       "(array([0, 1, 2, 3, 4, 5, 6, 7, 8, 9]),\n",
       " [Text(0, 0, 'normal'),\n",
       "  Text(1, 0, 'generic'),\n",
       "  Text(2, 0, 'dos'),\n",
       "  Text(3, 0, 'exploits'),\n",
       "  Text(4, 0, 'fuzzers'),\n",
       "  Text(5, 0, 'reconnaissance'),\n",
       "  Text(6, 0, 'backdoor'),\n",
       "  Text(7, 0, 'analysis'),\n",
       "  Text(8, 0, 'shellcode'),\n",
       "  Text(9, 0, 'worms')])"
      ]
     },
     "execution_count": 39,
     "metadata": {},
     "output_type": "execute_result"
    },
    {
     "data": {
      "image/png": "[encoded data removed]",
      "text/plain": [
       "<Figure size 576x288 with 1 Axes>"
      ]
     },
     "metadata": {
      "needs_background": "light"
     },
     "output_type": "display_data"
    }
   ],
   "source": [
    "import seaborn as sns\n",
    "fig, ax = plt.subplots(figsize=(8,4))\n",
    "sns.set_theme(style=\"darkgrid\")\n",
    "\n",
    "ax = sns.countplot(x='attack_cat', data=df,hue='label')\n",
    "\n",
    "ax.legend(loc=\"upper right\", labels=('normal', 'attack'))\n",
    "ax.set_title(\"data\")\n",
    "plt.xticks(rotation=45)"
   ]
  },
  {
   "cell_type": "markdown",
   "metadata": {},
   "source": [
    "**Attack Category\n",
    ",the name of each attack category.** \n",
    "In this data set, there are total nine categories of attack and normal is non-attack.\n",
    "\n",
    "The data is highly imbalanced and have lots of non-attack than attacks.\n",
    "\n",
    "In train data most occured attack data categories are \"Generic\", \"Exploits\", Fuzzers\", \"DoS\" and \"Reconnaissance\""
   ]
  },
  {
   "cell_type": "code",
   "execution_count": 40,
   "metadata": {},
   "outputs": [
    {
     "data": {
      "image/png": "[encoded data removed]",
      "text/plain": [
       "<Figure size 864x864 with 1 Axes>"
      ]
     },
     "metadata": {},
     "output_type": "display_data"
    }
   ],
   "source": [
    "# Function to show the different attack categories present in the dataset\n",
    "\n",
    "stopwords = set(STOPWORDS)\n",
    "def show_wordcloud(data, title = None):\n",
    "\n",
    "    attack_catgs = data.loc[:,'attack_cat'].replace('Backdoor','Backdoors', regex=False)\n",
    "    attack_catgs = attack_catgs.dropna().to_numpy()\n",
    "    attack_catgs = [x.strip(' ') for x in attack_catgs]\n",
    "    attack_catgs = np.unique(attack_catgs)\n",
    "    text = \" \".join(str(item) for item in attack_catgs)\n",
    "    wordcloud = WordCloud(\n",
    "        background_color='white',\n",
    "        collocations=False,\n",
    "        stopwords=stopwords,\n",
    "        max_words=200,\n",
    "        max_font_size=40, \n",
    "        scale=3,\n",
    "        random_state=1 # chosen at random by flipping a coin; it was heads\n",
    "    ).generate(text)\n",
    " \n",
    "    fig = plt.figure(1, figsize=(12, 12))\n",
    "    plt.axis('off')\n",
    "    if title: \n",
    "        fig.suptitle(title, fontsize=20)\n",
    "        fig.subplots_adjust(top=2.3)\n",
    "\n",
    "    plt.imshow(wordcloud)\n",
    "    plt.show()\n",
    "    \n",
    "show_wordcloud(df)\n"
   ]
  },
  {
   "cell_type": "markdown",
   "metadata": {},
   "source": [
    "### Feature Engineering"
   ]
  },
  {
   "cell_type": "markdown",
   "metadata": {},
   "source": [
    "**Remove highely correlated features**"
   ]
  },
  {
   "cell_type": "code",
   "execution_count": 41,
   "metadata": {},
   "outputs": [],
   "source": [
    "# Utility function\n",
    "def multi_corr(col1, col2=\"label\", df=df):\n",
    "    '''\n",
    "    This function returns correlation between 2 given features.\n",
    "    Also gives corr of the given features with \"label\" afetr applying log1p to it.\n",
    "    '''\n",
    "    corr = df[[col1, col2]].corr().iloc[0,1]\n",
    "    log_corr = df[col1].apply(np.log1p).corr(df[col2])\n",
    "\n",
    "    print(\"Correlation : {}\\nlog_Correlation: {}\".format(corr, log_corr))"
   ]
  },
  {
   "cell_type": "code",
   "execution_count": 42,
   "metadata": {},
   "outputs": [],
   "source": [
    "def corr(col1, col2=\"label\", df=df):\n",
    "    \"\"\"\n",
    "    This function returns correlation between 2 given features\n",
    "    \"\"\"\n",
    "    return df[[col1, col2]].corr().iloc[0,1]\n"
   ]
  },
  {
   "cell_type": "code",
   "execution_count": 43,
   "metadata": {},
   "outputs": [],
   "source": [
    "# Selecting all the features with high correlation values with other features\n",
    "# Refer: https://chrisalbon.com/machine_learning/feature_selection/drop_highly_correlated_features/\n",
    "corr_matrix = df.corr().abs()\n",
    "\n",
    "# Select upper triangle of correlation matrix\n",
    "upper = corr_matrix.where(np.triu(np.ones(corr_matrix.shape), k=1).astype(np.bool))\n",
    "\n",
    "# Find index of feature columns with correlation greater than 0.9\n",
    "to_drop = [column for column in upper.columns if any(upper[column] > 0.95)]"
   ]
  },
  {
   "cell_type": "code",
   "execution_count": 44,
   "metadata": {},
   "outputs": [
    {
     "name": "stdout",
     "output_type": "stream",
     "text": [
      "['sloss', 'dloss', 'dpkts', 'dwin', 'ltime', 'ct_srv_dst', 'ct_src_dport_ltm', 'ct_dst_src_ltm']\n"
     ]
    }
   ],
   "source": [
    "# We don't want to use these features for plotting because these are having high corr\n",
    "# And most likely have same kind of plots with already plotted feature\n",
    "print(to_drop)"
   ]
  },
  {
   "cell_type": "code",
   "execution_count": 45,
   "metadata": {},
   "outputs": [],
   "source": [
    "df.drop(columns=to_drop, inplace=True)"
   ]
  },
  {
   "cell_type": "code",
   "execution_count": 46,
   "metadata": {},
   "outputs": [
    {
     "data": {
      "text/plain": [
       "(254005, 41)"
      ]
     },
     "execution_count": 46,
     "metadata": {},
     "output_type": "execute_result"
    }
   ],
   "source": [
    "df.shape\n"
   ]
  },
  {
   "cell_type": "code",
   "execution_count": null,
   "metadata": {},
   "outputs": [],
   "source": []
  },
  {
   "cell_type": "code",
   "execution_count": 47,
   "metadata": {},
   "outputs": [
    {
     "data": {
      "text/plain": [
       "(254005, 41)"
      ]
     },
     "execution_count": 47,
     "metadata": {},
     "output_type": "execute_result"
    }
   ],
   "source": [
    "column_attributes = list (df_feature['Name'])\n",
    "df.shape"
   ]
  },
  {
   "cell_type": "code",
   "execution_count": 48,
   "metadata": {},
   "outputs": [],
   "source": [
    "# Dropping columns which are not useful for the classification\n",
    "# all the other columns are address related and not present in sample train data\n",
    "df.drop(['srcip', 'sport', 'dstip', 'dsport'], axis=1, inplace=True)"
   ]
  },
  {
   "cell_type": "code",
   "execution_count": 49,
   "metadata": {},
   "outputs": [
    {
     "name": "stdout",
     "output_type": "stream",
     "text": [
      "(254005, 37)\n"
     ]
    },
    {
     "data": {
      "text/plain": [
       "['proto',\n",
       " 'state',\n",
       " 'dur',\n",
       " 'sbytes',\n",
       " 'dbytes',\n",
       " 'sttl',\n",
       " 'dttl',\n",
       " 'service',\n",
       " 'sload',\n",
       " 'dload',\n",
       " 'spkts',\n",
       " 'swin',\n",
       " 'stcpb',\n",
       " 'dtcpb',\n",
       " 'smeansz',\n",
       " 'dmeansz',\n",
       " 'trans_depth',\n",
       " 'res_bdy_len',\n",
       " 'sjit',\n",
       " 'djit',\n",
       " 'stime',\n",
       " 'sintpkt',\n",
       " 'dintpkt',\n",
       " 'tcprtt',\n",
       " 'synack',\n",
       " 'ackdat',\n",
       " 'is_sm_ips_ports',\n",
       " 'ct_state_ttl',\n",
       " 'ct_flw_http_mthd',\n",
       " 'is_ftp_login',\n",
       " 'ct_ftp_cmd',\n",
       " 'ct_srv_src',\n",
       " 'ct_dst_ltm',\n",
       " 'ct_src_ltm',\n",
       " 'ct_dst_sport_ltm',\n",
       " 'attack_cat',\n",
       " 'label']"
      ]
     },
     "execution_count": 49,
     "metadata": {},
     "output_type": "execute_result"
    }
   ],
   "source": [
    "print(df.shape)\n",
    "df.columns\n",
    "column_attributes_non_correlated = list (df.columns)\n",
    "column_attributes_non_correlated"
   ]
  },
  {
   "cell_type": "markdown",
   "metadata": {},
   "source": [
    "### Applying log1p on Numerical columns¶\n",
    "During EDA we found that few numerical columns shows better visualization for pdf curves if we apply log1p to the columns.\n",
    "\n",
    "So I thought to try log1p on all the columns and check the correlation value of the original column and log1p column with target column i.e. \"label\""
   ]
  },
  {
   "cell_type": "code",
   "execution_count": 50,
   "metadata": {},
   "outputs": [],
   "source": [
    "# Getting number of unique values of all the columns\n",
    "# If the unique values are high that means it has continuous set of values\n",
    "col_unique_values = df.nunique()"
   ]
  },
  {
   "cell_type": "code",
   "execution_count": 51,
   "metadata": {},
   "outputs": [],
   "source": [
    "# If the unique values are getter than some threshould than we will check its corr\n",
    "col = col_unique_values[col_unique_values>200].index\n"
   ]
  },
  {
   "cell_type": "code",
   "execution_count": 52,
   "metadata": {},
   "outputs": [
    {
     "name": "stdout",
     "output_type": "stream",
     "text": [
      "-------------dur--------------\n",
      "Correlation : 0.00014142219719277002\n",
      "log_Correlation: -0.03519697400752585\n",
      "------------sbytes------------\n",
      "Correlation : 0.011918410968857955\n",
      "log_Correlation: -0.35763020875747437\n",
      "------------dbytes------------\n",
      "Correlation : -0.07344276078896068\n",
      "log_Correlation: -0.5222178426697598\n",
      "------------sload-------------\n",
      "Correlation : 0.19664003784726053\n",
      "log_Correlation: 0.3522945272976352\n",
      "------------dload-------------\n",
      "Correlation : -0.22000649187857677\n",
      "log_Correlation: -0.6057463782082639\n",
      "------------spkts-------------\n",
      "Correlation : -0.11481771745789812\n",
      "log_Correlation: -0.3182191013793924\n",
      "------------stcpb-------------\n",
      "Correlation : -0.23584967227876213\n",
      "log_Correlation: -0.31629399581360673\n",
      "------------dtcpb-------------\n",
      "Correlation : -0.23591762845149253\n",
      "log_Correlation: -0.31615190604431737\n",
      "-----------smeansz------------\n",
      "Correlation : -0.06546000829675822\n",
      "log_Correlation: -0.15057143965510078\n",
      "-----------dmeansz------------\n",
      "Correlation : -0.27388633885741687\n",
      "log_Correlation: -0.5676926100719383\n",
      "---------res_bdy_len----------\n",
      "Correlation : -0.022101753386684096\n",
      "log_Correlation: -0.06955604714907385\n",
      "-------------sjit-------------\n",
      "Correlation : 0.01714806437064818\n",
      "log_Correlation: -0.19275155969549856\n",
      "-------------djit-------------\n",
      "Correlation : -0.05879789541180323\n",
      "log_Correlation: -0.20817473031784264\n",
      "------------stime-------------\n",
      "Correlation : 0.2773820479077782\n",
      "log_Correlation: 0.2773816323123982\n",
      "-----------sintpkt------------\n",
      "Correlation : -0.020415080293791455\n",
      "log_Correlation: -0.08363045965483543\n",
      "-----------dintpkt------------\n",
      "Correlation : -0.012330387287684891\n",
      "log_Correlation: -0.08305898409667042\n",
      "------------tcprtt------------\n",
      "Correlation : 0.1381412412232663\n",
      "log_Correlation: 0.1803566806474851\n",
      "------------synack------------\n",
      "Correlation : 0.1130519565585312\n",
      "log_Correlation: 0.1481334344895889\n",
      "------------ackdat------------\n",
      "Correlation : 0.14645591237716038\n",
      "log_Correlation: 0.1750239748538769\n"
     ]
    }
   ],
   "source": [
    "# Checking corr value of original col and log1p applied col\n",
    "# Taking those columns whose unique values are getter than some threshould\n",
    "for column in col:\n",
    "    print(\"{:-^30}\".format(column))\n",
    "    multi_corr(column)\n"
   ]
  },
  {
   "cell_type": "code",
   "execution_count": 53,
   "metadata": {},
   "outputs": [],
   "source": [
    "# Will apply log1p on this columns and remove original columns\n",
    "log1p_col = ['dur', 'sbytes', 'dbytes', 'sload', 'dload', 'spkts', \n",
    "             'stcpb', 'dtcpb', 'smeansz', 'dmeansz', 'sjit', 'djit']"
   ]
  },
  {
   "cell_type": "code",
   "execution_count": 54,
   "metadata": {},
   "outputs": [],
   "source": [
    "# mode values of every features, will use to fill Null values of test\n",
    "mode_dict = df.mode().iloc[0].to_dict()"
   ]
  },
  {
   "cell_type": "code",
   "execution_count": 55,
   "metadata": {},
   "outputs": [],
   "source": [
    "def log1p_transform(col, df=df):\n",
    "    '''\n",
    "    Apply log1p on given column.\n",
    "    Remove the original cola and keep log1p applied col\n",
    "    '''\n",
    "    new_col = col+'_log1p'\n",
    "    df[new_col] = df[col].apply(np.log1p)\n",
    "    df.drop(col, axis=1, inplace=True)"
   ]
  },
  {
   "cell_type": "code",
   "execution_count": 56,
   "metadata": {},
   "outputs": [],
   "source": [
    "\n",
    "# Transforming columns with log1p\n",
    "for col in log1p_col:\n",
    "    log1p_transform(col, df=df)"
   ]
  },
  {
   "cell_type": "code",
   "execution_count": 57,
   "metadata": {},
   "outputs": [
    {
     "data": {
      "text/plain": [
       "(254005, 37)"
      ]
     },
     "execution_count": 57,
     "metadata": {},
     "output_type": "execute_result"
    }
   ],
   "source": [
    "df.shape"
   ]
  },
  {
   "cell_type": "code",
   "execution_count": 58,
   "metadata": {},
   "outputs": [
    {
     "data": {
      "text/plain": [
       "Index(['proto', 'state', 'sttl', 'dttl', 'service', 'swin', 'trans_depth',\n",
       "       'res_bdy_len', 'stime', 'sintpkt', 'dintpkt', 'tcprtt', 'synack',\n",
       "       'ackdat', 'is_sm_ips_ports', 'ct_state_ttl', 'ct_flw_http_mthd',\n",
       "       'is_ftp_login', 'ct_ftp_cmd', 'ct_srv_src', 'ct_dst_ltm', 'ct_src_ltm',\n",
       "       'ct_dst_sport_ltm', 'attack_cat', 'label', 'dur_log1p', 'sbytes_log1p',\n",
       "       'dbytes_log1p', 'sload_log1p', 'dload_log1p', 'spkts_log1p',\n",
       "       'stcpb_log1p', 'dtcpb_log1p', 'smeansz_log1p', 'dmeansz_log1p',\n",
       "       'sjit_log1p', 'djit_log1p'],\n",
       "      dtype='object', name='Name')"
      ]
     },
     "execution_count": 58,
     "metadata": {},
     "output_type": "execute_result"
    }
   ],
   "source": [
    "df.columns"
   ]
  },
  {
   "cell_type": "code",
   "execution_count": 59,
   "metadata": {},
   "outputs": [
    {
     "data": {
      "text/plain": [
       "(254005, 37)"
      ]
     },
     "execution_count": 59,
     "metadata": {},
     "output_type": "execute_result"
    }
   ],
   "source": [
    "df.shape"
   ]
  },
  {
   "cell_type": "code",
   "execution_count": 60,
   "metadata": {},
   "outputs": [
    {
     "data": {
      "text/plain": [
       "Index(['proto', 'state', 'sttl', 'dttl', 'service', 'swin', 'trans_depth',\n",
       "       'res_bdy_len', 'stime', 'sintpkt', 'dintpkt', 'tcprtt', 'synack',\n",
       "       'ackdat', 'is_sm_ips_ports', 'ct_state_ttl', 'ct_flw_http_mthd',\n",
       "       'is_ftp_login', 'ct_ftp_cmd', 'ct_srv_src', 'ct_dst_ltm', 'ct_src_ltm',\n",
       "       'ct_dst_sport_ltm', 'dur_log1p', 'sbytes_log1p', 'dbytes_log1p',\n",
       "       'sload_log1p', 'dload_log1p', 'spkts_log1p', 'stcpb_log1p',\n",
       "       'dtcpb_log1p', 'smeansz_log1p', 'dmeansz_log1p', 'sjit_log1p',\n",
       "       'djit_log1p'],\n",
       "      dtype='object', name='Name')"
      ]
     },
     "execution_count": 60,
     "metadata": {},
     "output_type": "execute_result"
    }
   ],
   "source": [
    "## Store input columns in X\n",
    "X  = df.drop([\"label\", \"attack_cat\"], axis=1)\n",
    "X.columns \n"
   ]
  },
  {
   "cell_type": "code",
   "execution_count": 61,
   "metadata": {},
   "outputs": [],
   "source": [
    "\n",
    "# Store output columns in Y\n",
    "\n",
    "Y = df[['attack_cat','label']]\n",
    "\n"
   ]
  },
  {
   "cell_type": "markdown",
   "metadata": {},
   "source": [
    "\n"
   ]
  },
  {
   "cell_type": "code",
   "execution_count": 62,
   "metadata": {},
   "outputs": [
    {
     "data": {
      "text/plain": [
       "(254005, 37)"
      ]
     },
     "execution_count": 62,
     "metadata": {},
     "output_type": "execute_result"
    }
   ],
   "source": [
    "# Checking for categorical names\n",
    "\n",
    "df.select_dtypes(exclude=np.number).columns\n",
    "df.shape"
   ]
  },
  {
   "cell_type": "code",
   "execution_count": 63,
   "metadata": {},
   "outputs": [],
   "source": [
    "#Convert categorical features into numerical by using one hot encoding\n",
    "X.loc[:,'proto'] = X.loc[:,'proto'].astype('category').cat.codes\n",
    "\n",
    "\n",
    "X.loc[:,'state'] = X.loc[:,'state'].astype('category').cat.codes\n",
    "\n",
    "\n",
    "X.loc[:,'service'] = X.loc[:,'service'].astype('category').cat.codes\n",
    "\n"
   ]
  },
  {
   "cell_type": "code",
   "execution_count": 64,
   "metadata": {},
   "outputs": [
    {
     "data": {
      "text/plain": [
       "dtype('int16')"
      ]
     },
     "execution_count": 64,
     "metadata": {},
     "output_type": "execute_result"
    }
   ],
   "source": [
    "# Check converted category feature datatype\n",
    "X['proto'].dtypes\n"
   ]
  },
  {
   "cell_type": "markdown",
   "metadata": {},
   "source": [
    "# One Hot Encoding of output column 'attack_cat'\n"
   ]
  },
  {
   "cell_type": "code",
   "execution_count": 65,
   "metadata": {},
   "outputs": [
    {
     "name": "stdout",
     "output_type": "stream",
     "text": [
      "{0: 'analysis', 1: 'backdoor', 2: 'dos', 3: 'exploits', 4: 'fuzzers', 5: 'generic', 6: 'normal', 7: 'reconnaissance', 8: 'shellcode', 9: 'worms'}\n"
     ]
    },
    {
     "data": {
      "text/plain": [
       "322641    6\n",
       "299317    6\n",
       "183555    6\n",
       "355417    6\n",
       "413288    6\n",
       "         ..\n",
       "258551    6\n",
       "245277    6\n",
       "424835    6\n",
       "137332    6\n",
       "487269    6\n",
       "Name: attack_cat, Length: 254005, dtype: int8"
      ]
     },
     "execution_count": 65,
     "metadata": {},
     "output_type": "execute_result"
    }
   ],
   "source": [
    "\n",
    "c = Y.attack_cat.astype('category')\n",
    "\n",
    "d = dict(enumerate(c.cat.categories))\n",
    "print (d)\n",
    "Y.loc[:,'attack_cat'] = Y.loc[:,'attack_cat'].astype('category').cat.codes\n",
    "\n",
    "\n",
    "\n",
    "\n",
    "Y.loc[:,'attack_cat']"
   ]
  },
  {
   "cell_type": "code",
   "execution_count": 66,
   "metadata": {},
   "outputs": [
    {
     "data": {
      "text/plain": [
       "Name\n",
       "attack_cat     int8\n",
       "label         int64\n",
       "dtype: object"
      ]
     },
     "execution_count": 66,
     "metadata": {},
     "output_type": "execute_result"
    }
   ],
   "source": [
    "Y.dtypes\n",
    "\n",
    "\n"
   ]
  },
  {
   "cell_type": "code",
   "execution_count": 67,
   "metadata": {},
   "outputs": [
    {
     "data": {
      "text/plain": [
       "array([[6],\n",
       "       [6],\n",
       "       [6],\n",
       "       ...,\n",
       "       [6],\n",
       "       [6],\n",
       "       [6]], dtype=int8)"
      ]
     },
     "execution_count": 67,
     "metadata": {},
     "output_type": "execute_result"
    }
   ],
   "source": [
    "\n",
    "Y['attack_cat']\n",
    "y_cat=[]\n",
    "y_cat = np.array(Y['attack_cat']).reshape(-1,1)\n",
    "y_cat\n"
   ]
  },
  {
   "cell_type": "code",
   "execution_count": null,
   "metadata": {},
   "outputs": [],
   "source": []
  },
  {
   "cell_type": "markdown",
   "metadata": {},
   "source": [
    "### Data Normalization"
   ]
  },
  {
   "cell_type": "code",
   "execution_count": 68,
   "metadata": {},
   "outputs": [],
   "source": [
    "from scipy import stats\n",
    "from sklearn.preprocessing import MinMaxScaler\n",
    "# Pass parameter type = 'statistical' or 'minmax'\n",
    "# Note: statistical is better for SVM and KNN.\n",
    "def normalization(data, type='minmax'):\n",
    "    if type == 'statistical':\n",
    "        return stats.zscore(data)\n",
    "    elif type == 'minmax':\n",
    "        scaler = MinMaxScaler()\n",
    "        return scaler.fit_transform(data)\n",
    "    else:\n",
    "        print('\\n Norm type not found! \\n')"
   ]
  },
  {
   "cell_type": "code",
   "execution_count": 69,
   "metadata": {},
   "outputs": [],
   "source": [
    "X = normalization(X, 'minmax')"
   ]
  },
  {
   "cell_type": "code",
   "execution_count": 70,
   "metadata": {},
   "outputs": [
    {
     "data": {
      "text/plain": [
       "(254005, 35)"
      ]
     },
     "execution_count": 70,
     "metadata": {},
     "output_type": "execute_result"
    }
   ],
   "source": [
    "X.shape"
   ]
  },
  {
   "cell_type": "markdown",
   "metadata": {},
   "source": [
    "### Feature Selection By using Random Forest Classifier"
   ]
  },
  {
   "cell_type": "code",
   "execution_count": 71,
   "metadata": {},
   "outputs": [],
   "source": [
    "from sklearn.ensemble._forest import RandomForestClassifier\n",
    "from sklearn.feature_selection import SelectFromModel"
   ]
  },
  {
   "cell_type": "code",
   "execution_count": 72,
   "metadata": {},
   "outputs": [
    {
     "data": {
      "text/plain": [
       "RandomForestClassifier()"
      ]
     },
     "execution_count": 72,
     "metadata": {},
     "output_type": "execute_result"
    }
   ],
   "source": [
    "select = (RandomForestClassifier(n_estimators = 100))\n",
    "select.fit(X, y_cat)\n"
   ]
  },
  {
   "cell_type": "code",
   "execution_count": 73,
   "metadata": {},
   "outputs": [
    {
     "name": "stdout",
     "output_type": "stream",
     "text": [
      "[1.00137159e-02 2.71866604e-02 1.21476164e-01 2.48542212e-02\n",
      " 2.64843628e-02 3.21209419e-03 8.42926480e-04 1.57119273e-03\n",
      " 1.38744728e-02 1.32562639e-02 5.10232392e-03 7.78033584e-03\n",
      " 1.22750296e-02 9.87207421e-03 2.65180079e-04 2.17260792e-01\n",
      " 1.46458353e-03 5.27565426e-05 4.59603451e-05 3.02872530e-02\n",
      " 1.81401437e-02 1.43674288e-02 1.45001753e-02 2.92600618e-02\n",
      " 1.24102857e-01 3.41746072e-02 7.58450132e-02 1.76968264e-02\n",
      " 5.05667382e-03 3.55625266e-03 3.38476366e-03 7.31328137e-02\n",
      " 4.83502911e-02 5.46722261e-03 5.78650629e-03]\n"
     ]
    },
    {
     "data": {
      "text/plain": [
       "35"
      ]
     },
     "execution_count": 73,
     "metadata": {},
     "output_type": "execute_result"
    }
   ],
   "source": [
    "features=[]\n",
    "print(select.feature_importances_)\n",
    "features=(select.feature_importances_).tolist()\n",
    "len(features)"
   ]
  },
  {
   "cell_type": "code",
   "execution_count": 74,
   "metadata": {},
   "outputs": [
    {
     "data": {
      "text/plain": [
       "37"
      ]
     },
     "execution_count": 74,
     "metadata": {},
     "output_type": "execute_result"
    }
   ],
   "source": [
    "len(column_attributes_non_correlated)\n"
   ]
  },
  {
   "cell_type": "code",
   "execution_count": 75,
   "metadata": {},
   "outputs": [
    {
     "name": "stdout",
     "output_type": "stream",
     "text": [
      "Features sorted by their score:\n",
      "[(0.2173, 'dmeansz'), (0.1241, 'synack'), (0.1215, 'dur'), (0.0758, 'is_sm_ips_ports'), (0.0731, 'ct_srv_src'), (0.0484, 'ct_dst_ltm'), (0.0342, 'ackdat'), (0.0303, 'djit'), (0.0293, 'tcprtt'), (0.0272, 'state'), (0.0265, 'dbytes'), (0.0249, 'sbytes'), (0.0181, 'stime'), (0.0177, 'ct_state_ttl'), (0.0145, 'dintpkt'), (0.0144, 'sintpkt'), (0.0139, 'sload'), (0.0133, 'dload'), (0.0123, 'stcpb'), (0.01, 'proto'), (0.0099, 'dtcpb'), (0.0078, 'swin'), (0.0058, 'ct_dst_sport_ltm'), (0.0055, 'ct_src_ltm'), (0.0051, 'spkts'), (0.0051, 'ct_flw_http_mthd'), (0.0036, 'is_ftp_login'), (0.0034, 'ct_ftp_cmd'), (0.0032, 'sttl'), (0.0016, 'service'), (0.0015, 'trans_depth'), (0.0008, 'dttl'), (0.0003, 'smeansz'), (0.0001, 'res_bdy_len'), (0.0, 'sjit')]\n"
     ]
    }
   ],
   "source": [
    "print(\"Features sorted by their score:\")\n",
    "print(sorted(zip(map(lambda x: round(x, 4), select.feature_importances_),\n",
    "                 column_attributes_non_correlated), \n",
    "             reverse=True))\n"
   ]
  },
  {
   "cell_type": "code",
   "execution_count": 76,
   "metadata": {},
   "outputs": [
    {
     "data": {
      "image/png": "[encoded data removed]",
      "text/plain": [
       "<Figure size 1440x576 with 1 Axes>"
      ]
     },
     "metadata": {},
     "output_type": "display_data"
    }
   ],
   "source": [
    "# RTC\n",
    "features_sorted_by_their_score =[(0.1846, 'synack'), (0.166, 'dur'), (0.1492, 'dmeansz'), (0.0747, 'ct_srv_src'), (0.0434, 'is_sm_ips_ports'), (0.0404, 'ct_dst_ltm'), (0.0321, 'ackdat'), (0.0289, 'tcprtt'), (0.0285, 'ct_state_ttl'), (0.0275, 'djit'), (0.0233, 'dintpkt'), (0.0224, 'dbytes'), (0.0217, 'stime'), (0.0173, 'sintpkt'), (0.0143, 'swin'), (0.0139, 'sbytes'), (0.0133, 'sload'), (0.0132, 'dtcpb'), (0.0128, 'proto'), (0.0108, 'state'), (0.0103, 'ct_flw_http_mthd'), (0.0102, 'dload'), (0.0096, 'stcpb'), (0.0064, 'spkts'), (0.0063, 'ct_dst_sport_ltm'), (0.0061, 'ct_src_ltm'), (0.0037, 'ct_ftp_cmd'), (0.0034, 'is_ftp_login'), (0.0015, 'service'), (0.0014, 'sttl'), (0.0012, 'trans_depth'), (0.0011, 'dttl'), (0.0004, 'smeansz'), (0.0, 'sjit'), (0.0, 'res_bdy_len')]\n",
    "\n",
    "\n",
    "x = [v for v, k in features_sorted_by_their_score]\n",
    "y = [k for v, k in features_sorted_by_their_score]\n",
    "\n",
    "plt.figure(figsize=(20,8))\n",
    "plt.bar(y, x)\n",
    "plt.xticks(rotation=90)\n",
    "plt.xlabel(\"Features\",fontsize=18)\n",
    "plt.ylabel(\"Importance\",fontsize=18)\n",
    "plt.title(\"Plot of features and their importance from RTC \",fontsize=18)\n",
    "plt.grid()\n",
    "plt.show()\n"
   ]
  },
  {
   "cell_type": "code",
   "execution_count": 77,
   "metadata": {},
   "outputs": [
    {
     "name": "stdout",
     "output_type": "stream",
     "text": [
      "[True, True, True, True, True, False, False, False, True, True, True, True, True, True, False, True, False, False, False, True, True, True, True, True, True, True, True, True, True, True, True, True, True, True, True]\n",
      "35\n"
     ]
    }
   ],
   "source": [
    "#selecting features\n",
    "sfm = SelectFromModel(select, threshold = 0.002)\n",
    "sfm.fit(X,y_cat)\n",
    "support_idx = list(sfm.get_support())\n",
    "print(support_idx)\n",
    "print(len(support_idx))"
   ]
  },
  {
   "cell_type": "code",
   "execution_count": 78,
   "metadata": {},
   "outputs": [
    {
     "name": "stdout",
     "output_type": "stream",
     "text": [
      "(254005, 37)\n",
      "(254005, 28)\n"
     ]
    }
   ],
   "source": [
    "X= sfm.transform(X)\n",
    "print(df.shape)\n",
    "print(X.shape)\n"
   ]
  },
  {
   "cell_type": "code",
   "execution_count": 79,
   "metadata": {},
   "outputs": [
    {
     "data": {
      "text/plain": [
       "Counter({6: 221812,\n",
       "         5: 21669,\n",
       "         2: 1631,\n",
       "         3: 4417,\n",
       "         4: 2414,\n",
       "         7: 1402,\n",
       "         1: 226,\n",
       "         0: 261,\n",
       "         8: 159,\n",
       "         9: 14})"
      ]
     },
     "execution_count": 79,
     "metadata": {},
     "output_type": "execute_result"
    }
   ],
   "source": [
    "# From the count, it is obvious class 6 and 5 categories dominate the entire dataset.\n",
    "# So we will try to under sample (randomly remove data rows) those classes to remove imbalance \n",
    "from collections import Counter\n",
    "Counter(Y['attack_cat'])\n",
    "\n"
   ]
  },
  {
   "cell_type": "code",
   "execution_count": 80,
   "metadata": {},
   "outputs": [],
   "source": [
    "\n",
    "filter_list = [(x,y) for (x,y) in zip(X,Y['attack_cat'])if (y ==6 or y== 5)]"
   ]
  },
  {
   "cell_type": "code",
   "execution_count": 81,
   "metadata": {},
   "outputs": [],
   "source": [
    "x = []\n",
    "y = []\n",
    "for i , val in enumerate(filter_list):\n",
    "  x.append(val[0])\n",
    "  y.append(val[1])"
   ]
  },
  {
   "cell_type": "code",
   "execution_count": 82,
   "metadata": {},
   "outputs": [
    {
     "name": "stdout",
     "output_type": "stream",
     "text": [
      "Resampled dataset shape Counter({5: 21669, 6: 21669})\n"
     ]
    }
   ],
   "source": [
    "from sklearn.datasets import make_classification\n",
    "from imblearn.under_sampling import RandomUnderSampler\n",
    "from collections import Counter\n",
    "rus = RandomUnderSampler(random_state=42)\n",
    "X_res, y_res = rus.fit_resample(x, y)\n",
    "print('Resampled dataset shape %s' % Counter(y_res))\n"
   ]
  },
  {
   "cell_type": "code",
   "execution_count": 83,
   "metadata": {},
   "outputs": [],
   "source": [
    "filter_other_cat = [(x,y) for (x,y) in zip(X,Y['attack_cat'])if (y!=6 and y!=5)]\n"
   ]
  },
  {
   "cell_type": "code",
   "execution_count": 84,
   "metadata": {},
   "outputs": [
    {
     "data": {
      "text/plain": [
       "10524"
      ]
     },
     "execution_count": 84,
     "metadata": {},
     "output_type": "execute_result"
    }
   ],
   "source": [
    "len(filter_other_cat)\n"
   ]
  },
  {
   "cell_type": "code",
   "execution_count": 85,
   "metadata": {},
   "outputs": [],
   "source": [
    "x_other = []\n",
    "y_other = []\n",
    "for i , val in enumerate(filter_other_cat):\n",
    "  x_other.append(val[0])\n",
    "  y_other.append(val[1])\n"
   ]
  },
  {
   "cell_type": "code",
   "execution_count": 86,
   "metadata": {},
   "outputs": [],
   "source": [
    "dataset_1 = pd.DataFrame(X_res)"
   ]
  },
  {
   "cell_type": "code",
   "execution_count": 87,
   "metadata": {},
   "outputs": [],
   "source": [
    "dataset_1['attack_cat'] = y_res\n"
   ]
  },
  {
   "cell_type": "code",
   "execution_count": 88,
   "metadata": {},
   "outputs": [],
   "source": [
    "# Rest of the dataset which is not under sampled\n",
    "dataset_2 = pd.DataFrame(x_other)"
   ]
  },
  {
   "cell_type": "code",
   "execution_count": 89,
   "metadata": {},
   "outputs": [],
   "source": [
    "dataset_2['attack_cat'] = y_other\n"
   ]
  },
  {
   "cell_type": "code",
   "execution_count": 90,
   "metadata": {},
   "outputs": [],
   "source": [
    "\n",
    "dataset_merged = pd.concat([dataset_1, dataset_2])"
   ]
  },
  {
   "cell_type": "code",
   "execution_count": 91,
   "metadata": {},
   "outputs": [
    {
     "data": {
      "text/plain": [
       "(53862, 29)"
      ]
     },
     "execution_count": 91,
     "metadata": {},
     "output_type": "execute_result"
    }
   ],
   "source": [
    "dataset_merged.shape"
   ]
  },
  {
   "cell_type": "code",
   "execution_count": 92,
   "metadata": {},
   "outputs": [
    {
     "data": {
      "text/plain": [
       "Index([           0,            1,            2,            3,            4,\n",
       "                  5,            6,            7,            8,            9,\n",
       "                 10,           11,           12,           13,           14,\n",
       "                 15,           16,           17,           18,           19,\n",
       "                 20,           21,           22,           23,           24,\n",
       "                 25,           26,           27, 'attack_cat'],\n",
       "      dtype='object')"
      ]
     },
     "execution_count": 92,
     "metadata": {},
     "output_type": "execute_result"
    }
   ],
   "source": [
    "dataset_merged.columns"
   ]
  },
  {
   "cell_type": "code",
   "execution_count": 93,
   "metadata": {},
   "outputs": [
    {
     "data": {
      "text/plain": [
       "Counter({5: 21669,\n",
       "         6: 21669,\n",
       "         2: 1631,\n",
       "         3: 4417,\n",
       "         4: 2414,\n",
       "         7: 1402,\n",
       "         1: 226,\n",
       "         0: 261,\n",
       "         8: 159,\n",
       "         9: 14})"
      ]
     },
     "execution_count": 93,
     "metadata": {},
     "output_type": "execute_result"
    }
   ],
   "source": [
    "# After looking at the counters, we need to oversample (Randomly duplicates the data rows) the data rows.\n",
    "Counter(dataset_merged['attack_cat'])"
   ]
  },
  {
   "cell_type": "code",
   "execution_count": 94,
   "metadata": {},
   "outputs": [],
   "source": [
    "\n",
    "from sklearn.utils import shuffle\n",
    "dataset = shuffle(dataset_merged).reset_index(drop=True)"
   ]
  },
  {
   "cell_type": "code",
   "execution_count": 95,
   "metadata": {},
   "outputs": [],
   "source": [
    "from imblearn.over_sampling import SMOTE"
   ]
  },
  {
   "cell_type": "code",
   "execution_count": 96,
   "metadata": {},
   "outputs": [],
   "source": [
    "\n",
    "# Define class instance ratio to oversample all other class labels\n",
    "\n",
    "sm = SMOTE(sampling_strategy = {6:216000, 5:216000, 3:100000, 7:90000, 2:80000, 8:70000, 4:50000, 9:45000, 1:40000,0:40000 },random_state=42,k_neighbors=5)"
   ]
  },
  {
   "cell_type": "markdown",
   "metadata": {},
   "source": [
    "dataset.iloc[:,-1]"
   ]
  },
  {
   "cell_type": "code",
   "execution_count": 97,
   "metadata": {},
   "outputs": [
    {
     "name": "stdout",
     "output_type": "stream",
     "text": [
      "After balancing the samples among class lables:  Counter({5: 216000, 6: 216000, 3: 100000, 7: 90000, 2: 80000, 8: 70000, 4: 50000, 9: 45000, 0: 40000, 1: 40000})\n"
     ]
    }
   ],
   "source": [
    "X_sm, Y_sm = sm.fit_resample(dataset.iloc[:,0:29],dataset.iloc[:,-1])\n",
    "print(\"After balancing the samples among class lables: \",Counter(Y_sm))"
   ]
  },
  {
   "cell_type": "code",
   "execution_count": 98,
   "metadata": {},
   "outputs": [
    {
     "data": {
      "text/plain": [
       "(53862, 30)"
      ]
     },
     "execution_count": 98,
     "metadata": {},
     "output_type": "execute_result"
    }
   ],
   "source": [
    "# add label col and initialize to 0 \n",
    "dataset_merged['label'] = 0\n",
    "dataset_merged.shape"
   ]
  },
  {
   "cell_type": "code",
   "execution_count": 99,
   "metadata": {},
   "outputs": [
    {
     "data": {
      "text/html": [
       "<div>\n",
       "<style scoped>\n",
       "    .dataframe tbody tr th:only-of-type {\n",
       "        vertical-align: middle;\n",
       "    }\n",
       "\n",
       "    .dataframe tbody tr th {\n",
       "        vertical-align: top;\n",
       "    }\n",
       "\n",
       "    .dataframe thead th {\n",
       "        text-align: right;\n",
       "    }\n",
       "</style>\n",
       "<table border=\"1\" class=\"dataframe\">\n",
       "  <thead>\n",
       "    <tr style=\"text-align: right;\">\n",
       "      <th></th>\n",
       "      <th>0</th>\n",
       "      <th>1</th>\n",
       "      <th>2</th>\n",
       "      <th>3</th>\n",
       "      <th>4</th>\n",
       "      <th>5</th>\n",
       "      <th>6</th>\n",
       "      <th>7</th>\n",
       "      <th>8</th>\n",
       "      <th>9</th>\n",
       "      <th>...</th>\n",
       "      <th>20</th>\n",
       "      <th>21</th>\n",
       "      <th>22</th>\n",
       "      <th>23</th>\n",
       "      <th>24</th>\n",
       "      <th>25</th>\n",
       "      <th>26</th>\n",
       "      <th>27</th>\n",
       "      <th>attack_cat</th>\n",
       "      <th>label</th>\n",
       "    </tr>\n",
       "  </thead>\n",
       "  <tbody>\n",
       "    <tr>\n",
       "      <th>0</th>\n",
       "      <td>0.901515</td>\n",
       "      <td>0.416667</td>\n",
       "      <td>0.996078</td>\n",
       "      <td>0.0</td>\n",
       "      <td>0.166667</td>\n",
       "      <td>0.987154</td>\n",
       "      <td>3.333221e-08</td>\n",
       "      <td>0.0</td>\n",
       "      <td>0.0</td>\n",
       "      <td>0.0</td>\n",
       "      <td>...</td>\n",
       "      <td>0.0</td>\n",
       "      <td>0.047495</td>\n",
       "      <td>0.0</td>\n",
       "      <td>0.0</td>\n",
       "      <td>0.20551</td>\n",
       "      <td>0.0</td>\n",
       "      <td>0.0</td>\n",
       "      <td>0.0</td>\n",
       "      <td>5</td>\n",
       "      <td>1</td>\n",
       "    </tr>\n",
       "    <tr>\n",
       "      <th>1</th>\n",
       "      <td>0.901515</td>\n",
       "      <td>0.416667</td>\n",
       "      <td>0.996078</td>\n",
       "      <td>0.0</td>\n",
       "      <td>0.166667</td>\n",
       "      <td>0.987690</td>\n",
       "      <td>1.499949e-07</td>\n",
       "      <td>0.0</td>\n",
       "      <td>0.0</td>\n",
       "      <td>0.0</td>\n",
       "      <td>...</td>\n",
       "      <td>0.0</td>\n",
       "      <td>0.047495</td>\n",
       "      <td>0.0</td>\n",
       "      <td>0.0</td>\n",
       "      <td>0.20551</td>\n",
       "      <td>0.0</td>\n",
       "      <td>0.0</td>\n",
       "      <td>0.0</td>\n",
       "      <td>5</td>\n",
       "      <td>1</td>\n",
       "    </tr>\n",
       "    <tr>\n",
       "      <th>2</th>\n",
       "      <td>0.901515</td>\n",
       "      <td>0.416667</td>\n",
       "      <td>0.996078</td>\n",
       "      <td>0.0</td>\n",
       "      <td>0.166667</td>\n",
       "      <td>0.995876</td>\n",
       "      <td>1.499949e-07</td>\n",
       "      <td>0.0</td>\n",
       "      <td>0.0</td>\n",
       "      <td>0.0</td>\n",
       "      <td>...</td>\n",
       "      <td>0.0</td>\n",
       "      <td>0.047495</td>\n",
       "      <td>0.0</td>\n",
       "      <td>0.0</td>\n",
       "      <td>0.20551</td>\n",
       "      <td>0.0</td>\n",
       "      <td>0.0</td>\n",
       "      <td>0.0</td>\n",
       "      <td>5</td>\n",
       "      <td>1</td>\n",
       "    </tr>\n",
       "    <tr>\n",
       "      <th>3</th>\n",
       "      <td>0.901515</td>\n",
       "      <td>0.416667</td>\n",
       "      <td>0.996078</td>\n",
       "      <td>0.0</td>\n",
       "      <td>0.166667</td>\n",
       "      <td>0.995724</td>\n",
       "      <td>1.666610e-07</td>\n",
       "      <td>0.0</td>\n",
       "      <td>0.0</td>\n",
       "      <td>0.0</td>\n",
       "      <td>...</td>\n",
       "      <td>0.0</td>\n",
       "      <td>0.047495</td>\n",
       "      <td>0.0</td>\n",
       "      <td>0.0</td>\n",
       "      <td>0.20551</td>\n",
       "      <td>0.0</td>\n",
       "      <td>0.0</td>\n",
       "      <td>0.0</td>\n",
       "      <td>5</td>\n",
       "      <td>1</td>\n",
       "    </tr>\n",
       "    <tr>\n",
       "      <th>4</th>\n",
       "      <td>0.901515</td>\n",
       "      <td>0.416667</td>\n",
       "      <td>0.996078</td>\n",
       "      <td>0.0</td>\n",
       "      <td>0.166667</td>\n",
       "      <td>0.992897</td>\n",
       "      <td>9.999663e-08</td>\n",
       "      <td>0.0</td>\n",
       "      <td>0.0</td>\n",
       "      <td>0.0</td>\n",
       "      <td>...</td>\n",
       "      <td>0.0</td>\n",
       "      <td>0.047495</td>\n",
       "      <td>0.0</td>\n",
       "      <td>0.0</td>\n",
       "      <td>0.20551</td>\n",
       "      <td>0.0</td>\n",
       "      <td>0.0</td>\n",
       "      <td>0.0</td>\n",
       "      <td>5</td>\n",
       "      <td>1</td>\n",
       "    </tr>\n",
       "  </tbody>\n",
       "</table>\n",
       "<p>5 rows × 30 columns</p>\n",
       "</div>"
      ],
      "text/plain": [
       "          0         1         2    3         4         5             6    7  \\\n",
       "0  0.901515  0.416667  0.996078  0.0  0.166667  0.987154  3.333221e-08  0.0   \n",
       "1  0.901515  0.416667  0.996078  0.0  0.166667  0.987690  1.499949e-07  0.0   \n",
       "2  0.901515  0.416667  0.996078  0.0  0.166667  0.995876  1.499949e-07  0.0   \n",
       "3  0.901515  0.416667  0.996078  0.0  0.166667  0.995724  1.666610e-07  0.0   \n",
       "4  0.901515  0.416667  0.996078  0.0  0.166667  0.992897  9.999663e-08  0.0   \n",
       "\n",
       "     8    9  ...   20        21   22   23       24   25   26   27  attack_cat  \\\n",
       "0  0.0  0.0  ...  0.0  0.047495  0.0  0.0  0.20551  0.0  0.0  0.0           5   \n",
       "1  0.0  0.0  ...  0.0  0.047495  0.0  0.0  0.20551  0.0  0.0  0.0           5   \n",
       "2  0.0  0.0  ...  0.0  0.047495  0.0  0.0  0.20551  0.0  0.0  0.0           5   \n",
       "3  0.0  0.0  ...  0.0  0.047495  0.0  0.0  0.20551  0.0  0.0  0.0           5   \n",
       "4  0.0  0.0  ...  0.0  0.047495  0.0  0.0  0.20551  0.0  0.0  0.0           5   \n",
       "\n",
       "   label  \n",
       "0      1  \n",
       "1      1  \n",
       "2      1  \n",
       "3      1  \n",
       "4      1  \n",
       "\n",
       "[5 rows x 30 columns]"
      ]
     },
     "execution_count": 99,
     "metadata": {},
     "output_type": "execute_result"
    }
   ],
   "source": [
    "# update the label column to 0 and 1 classes based on normal or other attacks\n",
    "dataset_merged.loc[dataset_merged['attack_cat']==6,'label'] = str(0)\n",
    "dataset_merged.loc[dataset_merged['attack_cat']!=6,'label'] = str(1)\n",
    "dataset_merged[0:5]"
   ]
  },
  {
   "cell_type": "code",
   "execution_count": 100,
   "metadata": {},
   "outputs": [
    {
     "name": "stdout",
     "output_type": "stream",
     "text": [
      "['proto', 'state', 'dur', 'sbytes', 'dbytes', 'sttl', 'dttl', 'service', 'sload', 'dload', 'spkts', 'swin', 'stcpb', 'dtcpb', 'smeansz', 'dmeansz', 'trans_depth', 'res_bdy_len', 'sjit', 'djit', 'stime', 'sintpkt', 'dintpkt', 'tcprtt', 'synack', 'ackdat', 'is_sm_ips_ports', 'ct_state_ttl', 'ct_flw_http_mthd', 'is_ftp_login', 'ct_ftp_cmd', 'ct_srv_src', 'ct_dst_ltm', 'ct_src_ltm', 'ct_dst_sport_ltm', 'attack_cat', 'label']\n",
      "\n",
      "37\n",
      "\n",
      "['proto', 'state', 'dur', 'sbytes', 'dbytes', 'dttl', 'sload', 'spkts', 'swin', 'stcpb', 'dtcpb', 'smeansz', 'dmeansz', 'trans_depth', 'sjit', 'djit', 'sintpkt', 'tcprtt', 'ackdat', 'is_sm_ips_ports', 'ct_state_ttl', 'ct_flw_http_mthd', 'is_ftp_login', 'ct_ftp_cmd', 'ct_srv_src', 'ct_dst_ltm', 'ct_src_ltm', 'ct_dst_sport_ltm', 'attack_cat', 'label']\n",
      "\n",
      "30\n",
      "Index([           0,            1,            2,            3,            4,\n",
      "                  5,            6,            7,            8,            9,\n",
      "                 10,           11,           12,           13,           14,\n",
      "                 15,           16,           17,           18,           19,\n",
      "                 20,           21,           22,           23,           24,\n",
      "                 25,           26,           27, 'attack_cat',      'label'],\n",
      "      dtype='object')\n"
     ]
    }
   ],
   "source": [
    "col_names = column_attributes_non_correlated.copy()\n",
    "\n",
    "\n",
    "print(col_names)\n",
    "print()\n",
    "print(len(col_names))\n",
    "print()\n",
    "for val, idx in zip(col_names, support_idx):\n",
    "  if not idx :\n",
    "      col_names.remove(val)\n",
    "        \n",
    "print(col_names)\n",
    "print()\n",
    "print(len(col_names))\n",
    "\n",
    "name = [v.lower() for k, v in enumerate(col_names)]\n",
    "print(dataset_merged.columns)\n",
    "dataset_merged.columns = name\n",
    "\n",
    "\n",
    "\n"
   ]
  },
  {
   "cell_type": "code",
   "execution_count": 102,
   "metadata": {},
   "outputs": [],
   "source": [
    "# save final data to the csv file\n",
    "dataset_merged.to_csv('dataset_RTC.csv')"
   ]
  },
  {
   "cell_type": "code",
   "execution_count": null,
   "metadata": {},
   "outputs": [],
   "source": []
  }
 ],
 "metadata": {
  "kernelspec": {
   "display_name": "Python 3",
   "language": "python",
   "name": "python3"
  },
  "language_info": {
   "codemirror_mode": {
    "name": "ipython",
    "version": 3
   },
   "file_extension": ".py",
   "mimetype": "text/x-python",
   "name": "python",
   "nbconvert_exporter": "python",
   "pygments_lexer": "ipython3",
   "version": "3.8.5"
  }
 },
 "nbformat": 4,
 "nbformat_minor": 4
}
